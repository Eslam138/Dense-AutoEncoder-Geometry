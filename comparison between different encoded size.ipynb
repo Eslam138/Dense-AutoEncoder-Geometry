{
  "nbformat": 4,
  "nbformat_minor": 0,
  "metadata": {
    "colab": {
      "name": "Ass2 ganimport pandas as pd import numpy as np  # Drawing the embeddings import matplotlib.pyplot as plt !pip install keras==2.2.4 !pip install tensorflow==1.13. %tensorflow_version 1.x # Deep learning:  from keras.models import Input, Model from keras..ipynb",
      "private_outputs": true,
      "provenance": []
    },
    "kernelspec": {
      "name": "python3",
      "display_name": "Python 3"
    },
    "language_info": {
      "name": "python"
    }
  },
  "cells": [
    {
      "cell_type": "code",
      "metadata": {
        "id": "THwmMrIh4CmL"
      },
      "source": [
        "import pandas as pd\n",
        "import numpy as np\n",
        "\n",
        "# Drawing the embeddings\n",
        "import matplotlib.pyplot as plt\n",
        "!pip install keras==2.2.4\n",
        "!pip install tensorflow==1.13.\n",
        "%tensorflow_version 1.x\n",
        "# Deep learning: \n",
        "from keras.models import Input, Model\n",
        "from keras.layers import Dense"
      ],
      "execution_count": null,
      "outputs": []
    },
    {
      "cell_type": "code",
      "metadata": {
        "id": "KwjmaDeD4wea"
      },
      "source": [
        "data = pd.read_csv('/content/Geom.csv')"
      ],
      "execution_count": null,
      "outputs": []
    },
    {
      "cell_type": "code",
      "metadata": {
        "id": "jSefOLUM40VI"
      },
      "source": [
        "print(data)\n"
      ],
      "execution_count": null,
      "outputs": []
    },
    {
      "cell_type": "code",
      "metadata": {
        "id": "-4PWqW3341sd"
      },
      "source": [
        "train=np.array(data)\n",
        "train=(train-train.mean())/train.std()"
      ],
      "execution_count": null,
      "outputs": []
    },
    {
      "cell_type": "code",
      "metadata": {
        "id": "aAQgnngy44yW"
      },
      "source": [
        "data.shape"
      ],
      "execution_count": null,
      "outputs": []
    },
    {
      "cell_type": "code",
      "metadata": {
        "id": "Xo4kkW6H49ke"
      },
      "source": [
        "import keras\n",
        "from keras import layers\n",
        "\n",
        "# This is the size of our encoded representations\n",
        "encoding_size = 60 \n",
        "# This is our input \n",
        "input= keras.Input(shape=(122,))\n",
        "# \"encoded\" is the encoded representation of the input\n",
        "encoded = layers.Dense(encoding_size, activation='linear')(input)\n",
        "# \"decoded\" is the lossy reconstruction of the input\n",
        "decoded = layers.Dense(122, activation='linear')(encoded)\n",
        "\n",
        "# This model maps an input to its reconstruction\n",
        "autoencoder = keras.Model(input, decoded)"
      ],
      "execution_count": null,
      "outputs": []
    },
    {
      "cell_type": "code",
      "metadata": {
        "id": "dmpWsUTI5Ak8"
      },
      "source": [
        "# This model maps an input to its encoded representation\n",
        "encoder = keras.Model(input, encoded)"
      ],
      "execution_count": null,
      "outputs": []
    },
    {
      "cell_type": "code",
      "metadata": {
        "id": "26mXb8DJ5EB1"
      },
      "source": [
        "# This is our encoded  input\n",
        "encoded_input = keras.Input(shape=(encoding_size,))\n",
        "# Retrieve the last layer of the autoencoder model\n",
        "decoder_layer = autoencoder.layers[-1]\n",
        "# Create the decoder model\n",
        "decoder = keras.Model(encoded_input, decoder_layer(encoded_input))"
      ],
      "execution_count": null,
      "outputs": []
    },
    {
      "cell_type": "code",
      "metadata": {
        "id": "Ux65zo225G3S"
      },
      "source": [
        "autoencoder.compile(optimizer='adam', loss='mse')"
      ],
      "execution_count": null,
      "outputs": []
    },
    {
      "cell_type": "code",
      "metadata": {
        "id": "tSNgcsSE5LGR"
      },
      "source": [
        "# train test split\n",
        "from sklearn.model_selection import train_test_split\n",
        "x_train, x_test, = train_test_split(data, test_size=0.22, random_state=42)"
      ],
      "execution_count": null,
      "outputs": []
    },
    {
      "cell_type": "code",
      "metadata": {
        "id": "HPuxjgEQ5Odg"
      },
      "source": [
        "import numpy as np\n",
        "import pandas as pd\n",
        "array1 = np.array(x_train)\n",
        "array2 = np.array(x_test)\n",
        "\n",
        "\n",
        "x_train = array1.reshape((len(x_train), np.prod(x_train.shape[1:])))\n",
        "x_test = array2.reshape((len(x_test), np.prod(x_test.shape[1:])))\n",
        "print(x_train.shape)\n",
        "print(x_test.shape)"
      ],
      "execution_count": null,
      "outputs": []
    },
    {
      "cell_type": "code",
      "metadata": {
        "id": "qNJ2h2De5UIw"
      },
      "source": [
        "autoencoder.fit(train[:17],train[:17],\n",
        "                epochs=100,\n",
        "                batch_size=256,\n",
        "                shuffle=True,\n",
        "                validation_data=(x_test,x_test))"
      ],
      "execution_count": null,
      "outputs": []
    },
    {
      "cell_type": "code",
      "metadata": {
        "id": "SljIQm8p5XzW"
      },
      "source": [
        "autoencoder.summary()\n"
      ],
      "execution_count": null,
      "outputs": []
    },
    {
      "cell_type": "code",
      "metadata": {
        "id": "imXxwGt_5b3E"
      },
      "source": [
        "# Encode and decode some digits\n",
        "# Note that we take them from the *test* set\n",
        "encoded_data = encoder.predict(train[17:])\n",
        "decoded_data = decoder.predict(encoded_data)"
      ],
      "execution_count": null,
      "outputs": []
    },
    {
      "cell_type": "code",
      "metadata": {
        "id": "oAJFC1Vm5iTT"
      },
      "source": [
        "Datax=np.zeros((5,61))\n",
        "Datay=np.zeros((5,61))\n",
        "j=0\n",
        "for x in x_test:\n",
        "    Dataytemp,Dataxtemp=[],[]\n",
        "\n",
        "    for i in range(0,121,2):\n",
        "        Dataxtemp.append(x[i])\n",
        "        Dataytemp.append(x[i+1])\n",
        "    Datax[j]=Dataxtemp\n",
        "    Datay[j]=Dataytemp\n",
        "    j += 1"
      ],
      "execution_count": null,
      "outputs": []
    },
    {
      "cell_type": "code",
      "metadata": {
        "id": "tenGHmFK5jeS"
      },
      "source": [
        "np.array(Datay).shape"
      ],
      "execution_count": null,
      "outputs": []
    },
    {
      "cell_type": "code",
      "metadata": {
        "id": "0Os7ifqM5mO4"
      },
      "source": [
        "np.array(Datax).shape"
      ],
      "execution_count": null,
      "outputs": []
    },
    {
      "cell_type": "code",
      "metadata": {
        "id": "6OGmWVDk5r54"
      },
      "source": [
        "decoded_data.shape"
      ],
      "execution_count": null,
      "outputs": []
    },
    {
      "cell_type": "code",
      "metadata": {
        "id": "OtM8hzDx5s-L"
      },
      "source": [
        "Datax1=np.zeros((5,61))\n",
        "Datay1=np.zeros((5,61))\n",
        "j=0\n",
        "for x in decoded_data:\n",
        "    Datay1temp,Datax1temp=[],[]\n",
        "\n",
        "    for i in range(0,121,2):\n",
        "        Datax1temp.append(x[i])\n",
        "        Datay1temp.append(x[i+1])\n",
        "    Datax1[j]=Datax1temp\n",
        "    Datay1[j]=Datay1temp\n",
        "    j += 1"
      ],
      "execution_count": null,
      "outputs": []
    },
    {
      "cell_type": "code",
      "metadata": {
        "id": "MmUNeBcL5ykP"
      },
      "source": [
        "np.array(Datax1).shape"
      ],
      "execution_count": null,
      "outputs": []
    },
    {
      "cell_type": "code",
      "metadata": {
        "id": "CXqVEfbS5zwg"
      },
      "source": [
        "np.array(Datay1).shape"
      ],
      "execution_count": null,
      "outputs": []
    },
    {
      "cell_type": "code",
      "metadata": {
        "id": "SzFZPYTa53mw"
      },
      "source": [
        "MSE = np.square(np.subtract(x_test,decoded_data)).mean()\n",
        "print(MSE)"
      ],
      "execution_count": null,
      "outputs": []
    },
    {
      "cell_type": "code",
      "metadata": {
        "id": "S6YndqTM58cx"
      },
      "source": [
        "# Use Matplotlib\n",
        "import matplotlib.pyplot as plt\n",
        "\n",
        "n = 5 # How many digits we will display\n",
        "plt.figure(figsize=(20, 5))\n",
        "for i in range(n):\n",
        "    # Display original\n",
        "    ax = plt.subplot(2, n, i + 1)\n",
        "    plt.scatter(Datax[i],Datay[i])\n",
        "    \n",
        "    ax.get_xaxis().set_visible(False)\n",
        "    ax.get_yaxis().set_visible(False)\n",
        "\n",
        "    \n",
        "   # Display reconstruction\n",
        "    ax = plt.subplot(2, n, i + 1 + n)\n",
        "    plt.scatter(Datax1[i],Datay1[i])\n",
        "    \n",
        "    ax.get_xaxis().set_visible(False)\n",
        "    ax.get_yaxis().set_visible(False)\n",
        "    \n",
        "plt.show()"
      ],
      "execution_count": null,
      "outputs": []
    },
    {
      "cell_type": "markdown",
      "metadata": {
        "id": "iJngL9Mw6F84"
      },
      "source": [
        "encoding_size = 30"
      ]
    },
    {
      "cell_type": "code",
      "metadata": {
        "id": "7QxjVs1T6nML"
      },
      "source": [
        "import keras\n",
        "from keras import layers\n",
        "\n",
        "# This is the size of our encoded representations\n",
        "encoding_size = 30 \n",
        "# This is our input \n",
        "input= keras.Input(shape=(122,))\n",
        "# \"encoded\" is the encoded representation of the input\n",
        "encoded = layers.Dense(encoding_size, activation='linear')(input)\n",
        "# \"decoded\" is the lossy reconstruction of the input\n",
        "decoded = layers.Dense(122, activation='linear')(encoded)\n",
        "\n",
        "# This model maps an input to its reconstruction\n",
        "autoencoder = keras.Model(input, decoded)"
      ],
      "execution_count": null,
      "outputs": []
    },
    {
      "cell_type": "code",
      "metadata": {
        "id": "4YIpbELV6xRi"
      },
      "source": [
        "encoder = keras.Model(input, encoded)"
      ],
      "execution_count": null,
      "outputs": []
    },
    {
      "cell_type": "code",
      "metadata": {
        "id": "jftyXFii63lQ"
      },
      "source": [
        "# This is our encoded  input\n",
        "encoded_input = keras.Input(shape=(encoding_size,))\n",
        "# Retrieve the last layer of the autoencoder model\n",
        "decoder_layer = autoencoder.layers[-1]\n",
        "# Create the decoder model\n",
        "decoder = keras.Model(encoded_input, decoder_layer(encoded_input))"
      ],
      "execution_count": null,
      "outputs": []
    },
    {
      "cell_type": "code",
      "metadata": {
        "id": "viSsqE8X68yj"
      },
      "source": [
        "autoencoder.compile(optimizer='adam', loss='mse')"
      ],
      "execution_count": null,
      "outputs": []
    },
    {
      "cell_type": "code",
      "metadata": {
        "id": "0H_JSYTm7C9W"
      },
      "source": [
        "# train test split\n",
        "from sklearn.model_selection import train_test_split\n",
        "x_train, x_test, = train_test_split(data, test_size=0.22, random_state=42)"
      ],
      "execution_count": null,
      "outputs": []
    },
    {
      "cell_type": "code",
      "metadata": {
        "id": "aedvyFMz7Emd"
      },
      "source": [
        "import numpy as np\n",
        "import pandas as pd\n",
        "array1 = np.array(x_train)\n",
        "array2 = np.array(x_test)\n",
        "\n",
        "\n",
        "x_train = array1.reshape((len(x_train), np.prod(x_train.shape[1:])))\n",
        "x_test = array2.reshape((len(x_test), np.prod(x_test.shape[1:])))\n",
        "print(x_train.shape)\n",
        "print(x_test.shape)"
      ],
      "execution_count": null,
      "outputs": []
    },
    {
      "cell_type": "code",
      "metadata": {
        "id": "ogFhrRDP7J57"
      },
      "source": [
        "autoencoder.fit(train[:17],train[:17],\n",
        "                epochs=100,\n",
        "                batch_size=256,\n",
        "                shuffle=True,\n",
        "                validation_data=(x_test,x_test))"
      ],
      "execution_count": null,
      "outputs": []
    },
    {
      "cell_type": "code",
      "metadata": {
        "id": "cjFP5pUs7LOb"
      },
      "source": [
        "# Encode and decode some digits\n",
        "# Note that we take them from the *test* set\n",
        "encoded_data = encoder.predict(train[17:])\n",
        "decoded_data = decoder.predict(encoded_data)"
      ],
      "execution_count": null,
      "outputs": []
    },
    {
      "cell_type": "code",
      "metadata": {
        "id": "td-RL75t7Ygy"
      },
      "source": [
        "Datax=np.zeros((5,61))\n",
        "Datay=np.zeros((5,61))\n",
        "j=0\n",
        "for x in x_test:\n",
        "    Dataytemp,Dataxtemp=[],[]\n",
        "\n",
        "    for i in range(0,121,2):\n",
        "        Dataxtemp.append(x[i])\n",
        "        Dataytemp.append(x[i+1])\n",
        "    Datax[j]=Dataxtemp\n",
        "    Datay[j]=Dataytemp\n",
        "    j += 1"
      ],
      "execution_count": null,
      "outputs": []
    },
    {
      "cell_type": "code",
      "metadata": {
        "id": "vrnlcgS27Z1G"
      },
      "source": [
        "Datax1=np.zeros((5,61))\n",
        "Datay1=np.zeros((5,61))\n",
        "j=0\n",
        "for x in decoded_data:\n",
        "    Datay1temp,Datax1temp=[],[]\n",
        "\n",
        "    for i in range(0,121,2):\n",
        "        Datax1temp.append(x[i])\n",
        "        Datay1temp.append(x[i+1])\n",
        "    Datax1[j]=Datax1temp\n",
        "    Datay1[j]=Datay1temp\n",
        "    j += 1"
      ],
      "execution_count": null,
      "outputs": []
    },
    {
      "cell_type": "code",
      "metadata": {
        "id": "ht-WfqR67hO8"
      },
      "source": [
        "MSE = np.square(np.subtract(x_test,decoded_data)).mean()\n",
        "print(MSE)"
      ],
      "execution_count": null,
      "outputs": []
    },
    {
      "cell_type": "code",
      "metadata": {
        "id": "jYfx062g7nWc"
      },
      "source": [
        "# Use Matplotlib\n",
        "import matplotlib.pyplot as plt\n",
        "\n",
        "n = 5 # How many digits we will display\n",
        "plt.figure(figsize=(20, 5))\n",
        "for i in range(n):\n",
        "    # Display original\n",
        "    ax = plt.subplot(2, n, i + 1)\n",
        "    plt.scatter(Datax[i],Datay[i])\n",
        "    \n",
        "    ax.get_xaxis().set_visible(False)\n",
        "    ax.get_yaxis().set_visible(False)\n",
        "\n",
        "    \n",
        "   # Display reconstruction\n",
        "    ax = plt.subplot(2, n, i + 1 + n)\n",
        "    plt.scatter(Datax1[i],Datay1[i])\n",
        "    \n",
        "    ax.get_xaxis().set_visible(False)\n",
        "    ax.get_yaxis().set_visible(False)\n",
        "    \n",
        "plt.show()"
      ],
      "execution_count": null,
      "outputs": []
    },
    {
      "cell_type": "markdown",
      "metadata": {
        "id": "BvD80TBd7r0p"
      },
      "source": [
        "encoding_size = 15\n"
      ]
    },
    {
      "cell_type": "code",
      "metadata": {
        "id": "Zos5r3CN72N6"
      },
      "source": [
        "import keras\n",
        "from keras import layers\n",
        "\n",
        "# This is the size of our encoded representations\n",
        "encoding_size = 15\n",
        "# This is our input \n",
        "input= keras.Input(shape=(122,))\n",
        "# \"encoded\" is the encoded representation of the input\n",
        "encoded = layers.Dense(encoding_size, activation='linear')(input)\n",
        "# \"decoded\" is the lossy reconstruction of the input\n",
        "decoded = layers.Dense(122, activation='linear')(encoded)\n",
        "\n",
        "# This model maps an input to its reconstruction\n",
        "autoencoder = keras.Model(input, decoded)"
      ],
      "execution_count": null,
      "outputs": []
    },
    {
      "cell_type": "code",
      "metadata": {
        "id": "7q9n818K7640"
      },
      "source": [
        "encoder = keras.Model(input, encoded)"
      ],
      "execution_count": null,
      "outputs": []
    },
    {
      "cell_type": "code",
      "metadata": {
        "id": "T22Sdtir8AGH"
      },
      "source": [
        "# This is our encoded  input\n",
        "encoded_input = keras.Input(shape=(encoding_size,))\n",
        "# Retrieve the last layer of the autoencoder model\n",
        "decoder_layer = autoencoder.layers[-1]\n",
        "# Create the decoder model\n",
        "decoder = keras.Model(encoded_input, decoder_layer(encoded_input))"
      ],
      "execution_count": null,
      "outputs": []
    },
    {
      "cell_type": "code",
      "metadata": {
        "id": "riXTRUdD8Ee7"
      },
      "source": [
        "autoencoder.compile(optimizer='adam', loss='mse')"
      ],
      "execution_count": null,
      "outputs": []
    },
    {
      "cell_type": "code",
      "metadata": {
        "id": "spJZEMxT8JmZ"
      },
      "source": [
        "# train test split\n",
        "from sklearn.model_selection import train_test_split\n",
        "x_train, x_test, = train_test_split(data, test_size=0.22, random_state=42)"
      ],
      "execution_count": null,
      "outputs": []
    },
    {
      "cell_type": "code",
      "metadata": {
        "id": "rDn4x5zE8QjX"
      },
      "source": [
        "import numpy as np\n",
        "import pandas as pd\n",
        "array1 = np.array(x_train)\n",
        "array2 = np.array(x_test)\n",
        "\n",
        "\n",
        "x_train = array1.reshape((len(x_train), np.prod(x_train.shape[1:])))\n",
        "x_test = array2.reshape((len(x_test), np.prod(x_test.shape[1:])))\n",
        "print(x_train.shape)\n",
        "print(x_test.shape)"
      ],
      "execution_count": null,
      "outputs": []
    },
    {
      "cell_type": "code",
      "metadata": {
        "id": "o6XupUsL8WRG"
      },
      "source": [
        "autoencoder.fit(train[:17],train[:17],\n",
        "                epochs=100,\n",
        "                batch_size=256,\n",
        "                shuffle=True,\n",
        "                validation_data=(x_test,x_test))"
      ],
      "execution_count": null,
      "outputs": []
    },
    {
      "cell_type": "code",
      "metadata": {
        "id": "5Z79pY988d1d"
      },
      "source": [
        "# Encode and decode some digits\n",
        "# Note that we take them from the *test* set\n",
        "encoded_data = encoder.predict(train[17:])\n",
        "decoded_data = decoder.predict(encoded_data)"
      ],
      "execution_count": null,
      "outputs": []
    },
    {
      "cell_type": "code",
      "metadata": {
        "id": "MJ6cpLCC8i3Y"
      },
      "source": [
        "Datax=np.zeros((5,61))\n",
        "Datay=np.zeros((5,61))\n",
        "j=0\n",
        "for x in x_test:\n",
        "    Dataytemp,Dataxtemp=[],[]\n",
        "\n",
        "    for i in range(0,121,2):\n",
        "        Dataxtemp.append(x[i])\n",
        "        Dataytemp.append(x[i+1])\n",
        "    Datax[j]=Dataxtemp\n",
        "    Datay[j]=Dataytemp\n",
        "    j += 1"
      ],
      "execution_count": null,
      "outputs": []
    },
    {
      "cell_type": "code",
      "metadata": {
        "id": "qjCCta-B8qeX"
      },
      "source": [
        "Datax1=np.zeros((5,61))\n",
        "Datay1=np.zeros((5,61))\n",
        "j=0\n",
        "for x in decoded_data:\n",
        "    Datay1temp,Datax1temp=[],[]\n",
        "\n",
        "    for i in range(0,121,2):\n",
        "        Datax1temp.append(x[i])\n",
        "        Datay1temp.append(x[i+1])\n",
        "    Datax1[j]=Datax1temp\n",
        "    Datay1[j]=Datay1temp\n",
        "    j += 1"
      ],
      "execution_count": null,
      "outputs": []
    },
    {
      "cell_type": "code",
      "metadata": {
        "id": "K3DTr_D48u5I"
      },
      "source": [
        "MSE = np.square(np.subtract(x_test,decoded_data)).mean()\n",
        "print(MSE)"
      ],
      "execution_count": null,
      "outputs": []
    },
    {
      "cell_type": "code",
      "metadata": {
        "id": "N479EexV8ylz"
      },
      "source": [
        "# Use Matplotlib\n",
        "import matplotlib.pyplot as plt\n",
        "\n",
        "n = 5 # How many digits we will display\n",
        "plt.figure(figsize=(20, 5))\n",
        "for i in range(n):\n",
        "    # Display original\n",
        "    ax = plt.subplot(2, n, i + 1)\n",
        "    plt.scatter(Datax[i],Datay[i])\n",
        "    \n",
        "    ax.get_xaxis().set_visible(False)\n",
        "    ax.get_yaxis().set_visible(False)\n",
        "\n",
        "    \n",
        "   # Display reconstruction\n",
        "    ax = plt.subplot(2, n, i + 1 + n)\n",
        "    plt.scatter(Datax1[i],Datay1[i])\n",
        "    \n",
        "    ax.get_xaxis().set_visible(False)\n",
        "    ax.get_yaxis().set_visible(False)\n",
        "    \n",
        "plt.show()"
      ],
      "execution_count": null,
      "outputs": []
    }
  ]
}