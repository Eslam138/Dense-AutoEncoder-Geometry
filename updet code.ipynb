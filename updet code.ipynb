{
  "nbformat": 4,
  "nbformat_minor": 0,
  "metadata": {
    "colab": {
      "name": "Untitled31.ipynb",
      "provenance": [],
      "collapsed_sections": []
    },
    "kernelspec": {
      "name": "python3",
      "display_name": "Python 3"
    },
    "language_info": {
      "name": "python"
    }
  },
  "cells": [
    {
      "cell_type": "code",
      "metadata": {
        "colab": {
          "base_uri": "https://localhost:8080/"
        },
        "id": "3r2XY3AD3SKd",
        "outputId": "a9919142-2371-4ced-deae-6b8bb6439b44"
      },
      "source": [
        "import pandas as pd\n",
        "import numpy as np\n",
        "\n",
        "# Drawing the embeddings\n",
        "import matplotlib.pyplot as plt\n",
        "!pip install keras==2.2.4\n",
        "!pip install tensorflow==1.13.\n",
        "%tensorflow_version 1.x\n",
        "# Deep learning: \n",
        "from keras.models import Input, Model\n",
        "from keras.layers import Dense"
      ],
      "execution_count": 814,
      "outputs": [
        {
          "output_type": "stream",
          "name": "stdout",
          "text": [
            "Requirement already satisfied: keras==2.2.4 in /usr/local/lib/python3.7/dist-packages (2.2.4)\n",
            "Requirement already satisfied: keras-preprocessing>=1.0.5 in /usr/local/lib/python3.7/dist-packages (from keras==2.2.4) (1.1.2)\n",
            "Requirement already satisfied: keras-applications>=1.0.6 in /tensorflow-1.15.2/python3.7 (from keras==2.2.4) (1.0.8)\n",
            "Requirement already satisfied: pyyaml in /usr/local/lib/python3.7/dist-packages (from keras==2.2.4) (3.13)\n",
            "Requirement already satisfied: scipy>=0.14 in /usr/local/lib/python3.7/dist-packages (from keras==2.2.4) (1.4.1)\n",
            "Requirement already satisfied: numpy>=1.9.1 in /usr/local/lib/python3.7/dist-packages (from keras==2.2.4) (1.19.5)\n",
            "Requirement already satisfied: h5py in /usr/local/lib/python3.7/dist-packages (from keras==2.2.4) (3.1.0)\n",
            "Requirement already satisfied: six>=1.9.0 in /usr/local/lib/python3.7/dist-packages (from keras==2.2.4) (1.15.0)\n",
            "Requirement already satisfied: cached-property in /usr/local/lib/python3.7/dist-packages (from h5py->keras==2.2.4) (1.5.2)\n",
            "\u001b[31mERROR: Could not find a version that satisfies the requirement tensorflow==1.13. (from versions: 1.13.1, 1.13.2, 1.14.0, 1.15.0, 1.15.2, 1.15.3, 1.15.4, 1.15.5, 2.0.0, 2.0.1, 2.0.2, 2.0.3, 2.0.4, 2.1.0, 2.1.1, 2.1.2, 2.1.3, 2.1.4, 2.2.0rc0, 2.2.0rc1, 2.2.0rc2, 2.2.0rc3, 2.2.0rc4, 2.2.0, 2.2.1, 2.2.2, 2.2.3, 2.3.0rc0, 2.3.0rc1, 2.3.0rc2, 2.3.0, 2.3.1, 2.3.2, 2.3.3, 2.3.4, 2.4.0rc0, 2.4.0rc1, 2.4.0rc2, 2.4.0rc3, 2.4.0rc4, 2.4.0, 2.4.1, 2.4.2, 2.4.3, 2.4.4, 2.5.0rc0, 2.5.0rc1, 2.5.0rc2, 2.5.0rc3, 2.5.0, 2.5.1, 2.5.2, 2.6.0rc0, 2.6.0rc1, 2.6.0rc2, 2.6.0, 2.6.1, 2.6.2, 2.7.0rc0, 2.7.0rc1, 2.7.0)\u001b[0m\n",
            "\u001b[31mERROR: No matching distribution found for tensorflow==1.13.\u001b[0m\n"
          ]
        }
      ]
    },
    {
      "cell_type": "code",
      "metadata": {
        "id": "oicBnpEOLpL-"
      },
      "source": [
        "data = pd.read_csv('/content/Geom.csv')"
      ],
      "execution_count": 815,
      "outputs": []
    },
    {
      "cell_type": "code",
      "metadata": {
        "id": "1PYNYByn3fn8",
        "colab": {
          "base_uri": "https://localhost:8080/"
        },
        "outputId": "2ef115a7-1be7-4c09-c0c7-e01e37affcf5"
      },
      "source": [
        "print(data)"
      ],
      "execution_count": 816,
      "outputs": [
        {
          "output_type": "stream",
          "name": "stdout",
          "text": [
            "          .1  Unnamed: 2  ...  Unnamed: 119  Unnamed: 120  Unnamed: 121\n",
            "0    82    0    81.55081  ...     -8.571701            82     -0.000381\n",
            "1    82    0    81.55078  ...     -8.571686            82     -0.000366\n",
            "2   129    0   128.29330  ...    -13.484740           129     -0.000595\n",
            "3   108    0   107.40840  ...    -11.289550           108     -0.000504\n",
            "4   145    0   144.20570  ...    -15.157260           145     -0.000671\n",
            "5    89    0    88.51245  ...     -9.303406            89     -0.000427\n",
            "6    83    0    82.54532  ...     -8.676208            83     -0.000366\n",
            "7   133    0   132.27140  ...    -13.902860           133     -0.000610\n",
            "8   116    0   115.36450  ...    -12.125820           116     -0.000534\n",
            "9    79    0    78.56723  ...     -8.258099            79     -0.000366\n",
            "10  131    0   130.28230  ...    -13.693790           131     -0.000610\n",
            "11   89    0    88.51245  ...     -9.303436            89     -0.000397\n",
            "12   85    0    84.53442  ...     -8.885300            85     -0.000397\n",
            "13  104    0   103.43030  ...    -10.871420           104     -0.000481\n",
            "14  136    0   135.25500  ...    -14.216460           136     -0.000610\n",
            "15   77    0    76.57819  ...     -8.049011            77     -0.000366\n",
            "16   96    0    95.47412  ...    -10.035160            96     -0.000427\n",
            "17   50    0    49.72607  ...     -5.226624            50     -0.000244\n",
            "18  106    0   105.41930  ...    -11.080470           106     -0.000488\n",
            "19  130    0   129.28780  ...    -13.589280           130     -0.000595\n",
            "20  120    0   119.34270  ...    -12.543950           120     -0.000549\n",
            "21  121    0   120.33720  ...    -12.648500           121     -0.000549\n",
            "\n",
            "[22 rows x 122 columns]\n"
          ]
        }
      ]
    },
    {
      "cell_type": "code",
      "metadata": {
        "id": "_R5dQyo0TCtv"
      },
      "source": [
        "train=np.array(data)\n",
        "train=(train-train.mean())/train.std()"
      ],
      "execution_count": 817,
      "outputs": []
    },
    {
      "cell_type": "code",
      "metadata": {
        "id": "IfsZhHJv3h9d",
        "colab": {
          "base_uri": "https://localhost:8080/"
        },
        "outputId": "853f180b-3a4a-4b68-a60d-ec5063cab5cb"
      },
      "source": [
        "data.shape"
      ],
      "execution_count": 818,
      "outputs": [
        {
          "output_type": "execute_result",
          "data": {
            "text/plain": [
              "(22, 122)"
            ]
          },
          "metadata": {},
          "execution_count": 818
        }
      ]
    },
    {
      "cell_type": "code",
      "metadata": {
        "id": "nxTuvrCZ3mtt"
      },
      "source": [
        "import keras\n",
        "from keras import layers\n",
        "\n",
        "# This is the size of our encoded representations\n",
        "encoding_size = 60 \n",
        "# This is our input \n",
        "input= keras.Input(shape=(122,))\n",
        "# \"encoded\" is the encoded representation of the input\n",
        "encoded = layers.Dense(encoding_size, activation='linear')(input)\n",
        "# \"decoded\" is the lossy reconstruction of the input\n",
        "decoded = layers.Dense(122, activation='linear')(encoded)\n",
        "\n",
        "# This model maps an input to its reconstruction\n",
        "autoencoder = keras.Model(input, decoded)"
      ],
      "execution_count": 819,
      "outputs": []
    },
    {
      "cell_type": "code",
      "metadata": {
        "id": "U4hKHdTS350M"
      },
      "source": [
        "# This model maps an input to its encoded representation\n",
        "encoder = keras.Model(input, encoded)"
      ],
      "execution_count": 820,
      "outputs": []
    },
    {
      "cell_type": "code",
      "metadata": {
        "id": "nIBqTMqa3_jM"
      },
      "source": [
        "# This is our encoded  input\n",
        "encoded_input = keras.Input(shape=(encoding_size,))\n",
        "# Retrieve the last layer of the autoencoder model\n",
        "decoder_layer = autoencoder.layers[-1]\n",
        "# Create the decoder model\n",
        "decoder = keras.Model(encoded_input, decoder_layer(encoded_input))"
      ],
      "execution_count": 821,
      "outputs": []
    },
    {
      "cell_type": "code",
      "metadata": {
        "id": "OVhdBmB_4IxY"
      },
      "source": [
        "autoencoder.compile(optimizer='adam', loss='mse')"
      ],
      "execution_count": 822,
      "outputs": []
    },
    {
      "cell_type": "code",
      "metadata": {
        "id": "GCBJuiCu4O44"
      },
      "source": [
        "# train test split\n",
        "from sklearn.model_selection import train_test_split\n",
        "x_train, x_test, = train_test_split(data, test_size=0.22, random_state=42)"
      ],
      "execution_count": 823,
      "outputs": []
    },
    {
      "cell_type": "code",
      "metadata": {
        "id": "VDx8fK1l4QP6",
        "colab": {
          "base_uri": "https://localhost:8080/"
        },
        "outputId": "d0cff5c3-3347-446b-c52e-a690a5eab3bf"
      },
      "source": [
        "import numpy as np\n",
        "import pandas as pd\n",
        "array1 = np.array(x_train)\n",
        "array2 = np.array(x_test)\n",
        "\n",
        "\n",
        "x_train = array1.reshape((len(x_train), np.prod(x_train.shape[1:])))\n",
        "x_test = array2.reshape((len(x_test), np.prod(x_test.shape[1:])))\n",
        "print(x_train.shape)\n",
        "print(x_test.shape)"
      ],
      "execution_count": 824,
      "outputs": [
        {
          "output_type": "stream",
          "name": "stdout",
          "text": [
            "(17, 122)\n",
            "(5, 122)\n"
          ]
        }
      ]
    },
    {
      "cell_type": "code",
      "metadata": {
        "id": "bQQYiz_g4UoD",
        "colab": {
          "base_uri": "https://localhost:8080/"
        },
        "outputId": "164fd53b-069d-4a94-f7f0-ec13293c56bb"
      },
      "source": [
        "autoencoder.fit(train[:17],train[:17],\n",
        "                epochs=100,\n",
        "                batch_size=256,\n",
        "                shuffle=True,\n",
        "                validation_data=(x_test,x_test))"
      ],
      "execution_count": 825,
      "outputs": [
        {
          "output_type": "stream",
          "name": "stdout",
          "text": [
            "Train on 17 samples, validate on 5 samples\n",
            "Epoch 1/100\n",
            "17/17 [==============================] - 1s 55ms/step - loss: 2.2151 - val_loss: 8254.5566\n",
            "Epoch 2/100\n",
            "17/17 [==============================] - 0s 369us/step - loss: 1.8751 - val_loss: 7036.5728\n",
            "Epoch 3/100\n",
            "17/17 [==============================] - 0s 336us/step - loss: 1.5951 - val_loss: 6034.6733\n",
            "Epoch 4/100\n",
            "17/17 [==============================] - 0s 402us/step - loss: 1.3650 - val_loss: 5210.4141\n",
            "Epoch 5/100\n",
            "17/17 [==============================] - 0s 445us/step - loss: 1.1759 - val_loss: 4533.9575\n",
            "Epoch 6/100\n",
            "17/17 [==============================] - 0s 344us/step - loss: 1.0209 - val_loss: 3980.3452\n",
            "Epoch 7/100\n",
            "17/17 [==============================] - 0s 443us/step - loss: 0.8943 - val_loss: 3526.2642\n",
            "Epoch 8/100\n",
            "17/17 [==============================] - 0s 397us/step - loss: 0.7906 - val_loss: 3150.1216\n",
            "Epoch 9/100\n",
            "17/17 [==============================] - 0s 413us/step - loss: 0.7049 - val_loss: 2833.2417\n",
            "Epoch 10/100\n",
            "17/17 [==============================] - 0s 332us/step - loss: 0.6328 - val_loss: 2560.7703\n",
            "Epoch 11/100\n",
            "17/17 [==============================] - 0s 634us/step - loss: 0.5710 - val_loss: 2321.4570\n",
            "Epoch 12/100\n",
            "17/17 [==============================] - 0s 335us/step - loss: 0.5168 - val_loss: 2106.9675\n",
            "Epoch 13/100\n",
            "17/17 [==============================] - 0s 454us/step - loss: 0.4684 - val_loss: 1911.2322\n",
            "Epoch 14/100\n",
            "17/17 [==============================] - 0s 381us/step - loss: 0.4242 - val_loss: 1729.9172\n",
            "Epoch 15/100\n",
            "17/17 [==============================] - 0s 438us/step - loss: 0.3834 - val_loss: 1560.1907\n",
            "Epoch 16/100\n",
            "17/17 [==============================] - 0s 496us/step - loss: 0.3453 - val_loss: 1400.5266\n",
            "Epoch 17/100\n",
            "17/17 [==============================] - 0s 424us/step - loss: 0.3096 - val_loss: 1250.4280\n",
            "Epoch 18/100\n",
            "17/17 [==============================] - 0s 361us/step - loss: 0.2760 - val_loss: 1110.0901\n",
            "Epoch 19/100\n",
            "17/17 [==============================] - 0s 421us/step - loss: 0.2447 - val_loss: 979.9844\n",
            "Epoch 20/100\n",
            "17/17 [==============================] - 0s 394us/step - loss: 0.2157 - val_loss: 860.5316\n",
            "Epoch 21/100\n",
            "17/17 [==============================] - 0s 437us/step - loss: 0.1892 - val_loss: 751.8718\n",
            "Epoch 22/100\n",
            "17/17 [==============================] - 0s 279us/step - loss: 0.1652 - val_loss: 653.7577\n",
            "Epoch 23/100\n",
            "17/17 [==============================] - 0s 379us/step - loss: 0.1435 - val_loss: 565.6503\n",
            "Epoch 24/100\n",
            "17/17 [==============================] - 0s 340us/step - loss: 0.1241 - val_loss: 486.8691\n",
            "Epoch 25/100\n",
            "17/17 [==============================] - 0s 338us/step - loss: 0.1068 - val_loss: 416.7175\n",
            "Epoch 26/100\n",
            "17/17 [==============================] - 0s 296us/step - loss: 0.0914 - val_loss: 354.5334\n",
            "Epoch 27/100\n",
            "17/17 [==============================] - 0s 235us/step - loss: 0.0778 - val_loss: 299.6450\n",
            "Epoch 28/100\n",
            "17/17 [==============================] - 0s 552us/step - loss: 0.0658 - val_loss: 251.3647\n",
            "Epoch 29/100\n",
            "17/17 [==============================] - 0s 474us/step - loss: 0.0553 - val_loss: 209.0450\n",
            "Epoch 30/100\n",
            "17/17 [==============================] - 0s 407us/step - loss: 0.0460 - val_loss: 172.1706\n",
            "Epoch 31/100\n",
            "17/17 [==============================] - 0s 610us/step - loss: 0.0380 - val_loss: 140.4157\n",
            "Epoch 32/100\n",
            "17/17 [==============================] - 0s 495us/step - loss: 0.0311 - val_loss: 113.5766\n",
            "Epoch 33/100\n",
            "17/17 [==============================] - 0s 439us/step - loss: 0.0253 - val_loss: 91.4597\n",
            "Epoch 34/100\n",
            "17/17 [==============================] - 0s 328us/step - loss: 0.0205 - val_loss: 73.7935\n",
            "Epoch 35/100\n",
            "17/17 [==============================] - 0s 364us/step - loss: 0.0167 - val_loss: 60.1983\n",
            "Epoch 36/100\n",
            "17/17 [==============================] - 0s 455us/step - loss: 0.0137 - val_loss: 50.1996\n",
            "Epoch 37/100\n",
            "17/17 [==============================] - 0s 436us/step - loss: 0.0115 - val_loss: 43.2272\n",
            "Epoch 38/100\n",
            "17/17 [==============================] - 0s 231us/step - loss: 0.0100 - val_loss: 38.6354\n",
            "Epoch 39/100\n",
            "17/17 [==============================] - 0s 399us/step - loss: 0.0090 - val_loss: 35.7523\n",
            "Epoch 40/100\n",
            "17/17 [==============================] - 0s 375us/step - loss: 0.0084 - val_loss: 33.9554\n",
            "Epoch 41/100\n",
            "17/17 [==============================] - 0s 623us/step - loss: 0.0080 - val_loss: 32.7371\n",
            "Epoch 42/100\n",
            "17/17 [==============================] - 0s 606us/step - loss: 0.0077 - val_loss: 31.7241\n",
            "Epoch 43/100\n",
            "17/17 [==============================] - 0s 423us/step - loss: 0.0074 - val_loss: 30.6778\n",
            "Epoch 44/100\n",
            "17/17 [==============================] - 0s 482us/step - loss: 0.0071 - val_loss: 29.4866\n",
            "Epoch 45/100\n",
            "17/17 [==============================] - 0s 673us/step - loss: 0.0068 - val_loss: 28.1499\n",
            "Epoch 46/100\n",
            "17/17 [==============================] - 0s 342us/step - loss: 0.0065 - val_loss: 26.7269\n",
            "Epoch 47/100\n",
            "17/17 [==============================] - 0s 438us/step - loss: 0.0061 - val_loss: 25.2696\n",
            "Epoch 48/100\n",
            "17/17 [==============================] - 0s 356us/step - loss: 0.0057 - val_loss: 23.7970\n",
            "Epoch 49/100\n",
            "17/17 [==============================] - 0s 400us/step - loss: 0.0054 - val_loss: 22.3142\n",
            "Epoch 50/100\n",
            "17/17 [==============================] - 0s 425us/step - loss: 0.0050 - val_loss: 20.8375\n",
            "Epoch 51/100\n",
            "17/17 [==============================] - 0s 607us/step - loss: 0.0047 - val_loss: 19.3811\n",
            "Epoch 52/100\n",
            "17/17 [==============================] - 0s 427us/step - loss: 0.0044 - val_loss: 17.9407\n",
            "Epoch 53/100\n",
            "17/17 [==============================] - 0s 589us/step - loss: 0.0040 - val_loss: 16.5064\n",
            "Epoch 54/100\n",
            "17/17 [==============================] - 0s 647us/step - loss: 0.0037 - val_loss: 15.0899\n",
            "Epoch 55/100\n",
            "17/17 [==============================] - 0s 500us/step - loss: 0.0033 - val_loss: 13.7236\n",
            "Epoch 56/100\n",
            "17/17 [==============================] - 0s 506us/step - loss: 0.0030 - val_loss: 12.4394\n",
            "Epoch 57/100\n",
            "17/17 [==============================] - 0s 445us/step - loss: 0.0027 - val_loss: 11.2620\n",
            "Epoch 58/100\n",
            "17/17 [==============================] - 0s 610us/step - loss: 0.0024 - val_loss: 10.2174\n",
            "Epoch 59/100\n",
            "17/17 [==============================] - 0s 390us/step - loss: 0.0021 - val_loss: 9.3267\n",
            "Epoch 60/100\n",
            "17/17 [==============================] - 0s 606us/step - loss: 0.0019 - val_loss: 8.5860\n",
            "Epoch 61/100\n",
            "17/17 [==============================] - 0s 654us/step - loss: 0.0017 - val_loss: 7.9667\n",
            "Epoch 62/100\n",
            "17/17 [==============================] - 0s 507us/step - loss: 0.0015 - val_loss: 7.4393\n",
            "Epoch 63/100\n",
            "17/17 [==============================] - 0s 469us/step - loss: 0.0013 - val_loss: 6.9884\n",
            "Epoch 64/100\n",
            "17/17 [==============================] - 0s 327us/step - loss: 0.0012 - val_loss: 6.6002\n",
            "Epoch 65/100\n",
            "17/17 [==============================] - 0s 430us/step - loss: 0.0011 - val_loss: 6.2539\n",
            "Epoch 66/100\n",
            "17/17 [==============================] - 0s 412us/step - loss: 9.4926e-04 - val_loss: 5.9329\n",
            "Epoch 67/100\n",
            "17/17 [==============================] - 0s 470us/step - loss: 8.3732e-04 - val_loss: 5.6352\n",
            "Epoch 68/100\n",
            "17/17 [==============================] - 0s 601us/step - loss: 7.3381e-04 - val_loss: 5.3638\n",
            "Epoch 69/100\n",
            "17/17 [==============================] - 0s 579us/step - loss: 6.3903e-04 - val_loss: 5.1175\n",
            "Epoch 70/100\n",
            "17/17 [==============================] - 0s 495us/step - loss: 5.5394e-04 - val_loss: 4.8982\n",
            "Epoch 71/100\n",
            "17/17 [==============================] - 0s 560us/step - loss: 4.7958e-04 - val_loss: 4.7172\n",
            "Epoch 72/100\n",
            "17/17 [==============================] - 0s 448us/step - loss: 4.1684e-04 - val_loss: 4.5834\n",
            "Epoch 73/100\n",
            "17/17 [==============================] - 0s 421us/step - loss: 3.6611e-04 - val_loss: 4.4929\n",
            "Epoch 74/100\n",
            "17/17 [==============================] - 0s 439us/step - loss: 3.2714e-04 - val_loss: 4.4362\n",
            "Epoch 75/100\n",
            "17/17 [==============================] - 0s 500us/step - loss: 2.9888e-04 - val_loss: 4.4053\n",
            "Epoch 76/100\n",
            "17/17 [==============================] - 0s 512us/step - loss: 2.7951e-04 - val_loss: 4.3881\n",
            "Epoch 77/100\n",
            "17/17 [==============================] - 0s 444us/step - loss: 2.6649e-04 - val_loss: 4.3667\n",
            "Epoch 78/100\n",
            "17/17 [==============================] - 0s 428us/step - loss: 2.5712e-04 - val_loss: 4.3288\n",
            "Epoch 79/100\n",
            "17/17 [==============================] - 0s 480us/step - loss: 2.4903e-04 - val_loss: 4.2746\n",
            "Epoch 80/100\n",
            "17/17 [==============================] - 0s 571us/step - loss: 2.4063e-04 - val_loss: 4.2078\n",
            "Epoch 81/100\n",
            "17/17 [==============================] - 0s 606us/step - loss: 2.3108e-04 - val_loss: 4.1303\n",
            "Epoch 82/100\n",
            "17/17 [==============================] - 0s 658us/step - loss: 2.2008e-04 - val_loss: 4.0464\n",
            "Epoch 83/100\n",
            "17/17 [==============================] - 0s 644us/step - loss: 2.0771e-04 - val_loss: 3.9638\n",
            "Epoch 84/100\n",
            "17/17 [==============================] - 0s 586us/step - loss: 1.9423e-04 - val_loss: 3.8857\n",
            "Epoch 85/100\n",
            "17/17 [==============================] - 0s 613us/step - loss: 1.8009e-04 - val_loss: 3.8099\n",
            "Epoch 86/100\n",
            "17/17 [==============================] - 0s 643us/step - loss: 1.6583e-04 - val_loss: 3.7364\n",
            "Epoch 87/100\n",
            "17/17 [==============================] - 0s 665us/step - loss: 1.5195e-04 - val_loss: 3.6659\n",
            "Epoch 88/100\n",
            "17/17 [==============================] - 0s 612us/step - loss: 1.3880e-04 - val_loss: 3.5953\n",
            "Epoch 89/100\n",
            "17/17 [==============================] - 0s 440us/step - loss: 1.2654e-04 - val_loss: 3.5200\n",
            "Epoch 90/100\n",
            "17/17 [==============================] - 0s 664us/step - loss: 1.1522e-04 - val_loss: 3.4402\n",
            "Epoch 91/100\n",
            "17/17 [==============================] - 0s 264us/step - loss: 1.0484e-04 - val_loss: 3.3582\n",
            "Epoch 92/100\n",
            "17/17 [==============================] - 0s 321us/step - loss: 9.5442e-05 - val_loss: 3.2748\n",
            "Epoch 93/100\n",
            "17/17 [==============================] - 0s 305us/step - loss: 8.7053e-05 - val_loss: 3.1920\n",
            "Epoch 94/100\n",
            "17/17 [==============================] - 0s 412us/step - loss: 7.9686e-05 - val_loss: 3.1147\n",
            "Epoch 95/100\n",
            "17/17 [==============================] - 0s 335us/step - loss: 7.3341e-05 - val_loss: 3.0453\n",
            "Epoch 96/100\n",
            "17/17 [==============================] - 0s 451us/step - loss: 6.8016e-05 - val_loss: 2.9819\n",
            "Epoch 97/100\n",
            "17/17 [==============================] - 0s 538us/step - loss: 6.3670e-05 - val_loss: 2.9238\n",
            "Epoch 98/100\n",
            "17/17 [==============================] - 0s 653us/step - loss: 6.0246e-05 - val_loss: 2.8707\n",
            "Epoch 99/100\n",
            "17/17 [==============================] - 0s 281us/step - loss: 5.7576e-05 - val_loss: 2.8201\n",
            "Epoch 100/100\n",
            "17/17 [==============================] - 0s 374us/step - loss: 5.5408e-05 - val_loss: 2.7708\n"
          ]
        },
        {
          "output_type": "execute_result",
          "data": {
            "text/plain": [
              "<keras.callbacks.callbacks.History at 0x7fe559547ed0>"
            ]
          },
          "metadata": {},
          "execution_count": 825
        }
      ]
    },
    {
      "cell_type": "code",
      "metadata": {
        "id": "lggh79BC4aDL",
        "colab": {
          "base_uri": "https://localhost:8080/"
        },
        "outputId": "77ae6303-41e7-4207-91a8-5916b1440a4f"
      },
      "source": [
        "autoencoder.summary()\n"
      ],
      "execution_count": 826,
      "outputs": [
        {
          "output_type": "stream",
          "name": "stdout",
          "text": [
            "Model: \"model_100\"\n",
            "_________________________________________________________________\n",
            "Layer (type)                 Output Shape              Param #   \n",
            "=================================================================\n",
            "input_73 (InputLayer)        (None, 122)               0         \n",
            "_________________________________________________________________\n",
            "dense_74 (Dense)             (None, 60)                7380      \n",
            "_________________________________________________________________\n",
            "dense_75 (Dense)             (None, 122)               7442      \n",
            "=================================================================\n",
            "Total params: 14,822\n",
            "Trainable params: 14,822\n",
            "Non-trainable params: 0\n",
            "_________________________________________________________________\n"
          ]
        }
      ]
    },
    {
      "cell_type": "code",
      "metadata": {
        "id": "iSzPmkiB4dgc"
      },
      "source": [
        "# Encode and decode some digits\n",
        "# Note that we take them from the *test* set\n",
        "encoded_data = encoder.predict(train[17:])\n",
        "decoded_data = decoder.predict(encoded_data)"
      ],
      "execution_count": 827,
      "outputs": []
    },
    {
      "cell_type": "code",
      "metadata": {
        "id": "kWIfy3KDKd8s"
      },
      "source": [
        "xdata_r=np.zeros((22,61))\n",
        "ydata_r=np.zeros((22,61))\n",
        "j=0\n",
        "for x in x_train:\n",
        "    dataytemp,dataxtemp=[],[]\n",
        "\n",
        "    for i in range(0,121,2):\n",
        "        dataxtemp.append(x[i])\n",
        "        dataytemp.append(x[i+1])\n",
        "    xdata_r[j]=dataxtemp\n",
        "    ydata_r[j]=dataytemp\n",
        "    j += 1"
      ],
      "execution_count": 828,
      "outputs": []
    },
    {
      "cell_type": "code",
      "metadata": {
        "id": "NRW0pIaQFlme"
      },
      "source": [
        "Datax=np.zeros((5,61))\n",
        "Datay=np.zeros((5,61))\n",
        "j=0\n",
        "for x in x_test:\n",
        "    Dataytemp,Dataxtemp=[],[]\n",
        "\n",
        "    for i in range(0,121,2):\n",
        "        Dataxtemp.append(x[i])\n",
        "        Dataytemp.append(x[i+1])\n",
        "    Datax[j]=Dataxtemp\n",
        "    Datay[j]=Dataytemp\n",
        "    j += 1"
      ],
      "execution_count": 829,
      "outputs": []
    },
    {
      "cell_type": "code",
      "metadata": {
        "id": "PFn46ohvCa5C",
        "colab": {
          "base_uri": "https://localhost:8080/"
        },
        "outputId": "b750414d-b91f-468f-8be8-2491da042383"
      },
      "source": [
        "np.array(Datay).shape"
      ],
      "execution_count": 830,
      "outputs": [
        {
          "output_type": "execute_result",
          "data": {
            "text/plain": [
              "(5, 61)"
            ]
          },
          "metadata": {},
          "execution_count": 830
        }
      ]
    },
    {
      "cell_type": "code",
      "metadata": {
        "id": "rHv35FcZjA2B",
        "colab": {
          "base_uri": "https://localhost:8080/"
        },
        "outputId": "eb8782c0-f456-410c-e304-0af397042290"
      },
      "source": [
        "np.array(Datax).shape"
      ],
      "execution_count": 831,
      "outputs": [
        {
          "output_type": "execute_result",
          "data": {
            "text/plain": [
              "(5, 61)"
            ]
          },
          "metadata": {},
          "execution_count": 831
        }
      ]
    },
    {
      "cell_type": "code",
      "metadata": {
        "id": "Gp8hp_a7ml5V",
        "colab": {
          "base_uri": "https://localhost:8080/"
        },
        "outputId": "815af081-c6ab-41ff-8bc6-74b37547c703"
      },
      "source": [
        "\n",
        "\n",
        "decoded_data.shape"
      ],
      "execution_count": 832,
      "outputs": [
        {
          "output_type": "execute_result",
          "data": {
            "text/plain": [
              "(5, 122)"
            ]
          },
          "metadata": {},
          "execution_count": 832
        }
      ]
    },
    {
      "cell_type": "code",
      "metadata": {
        "id": "4_iLKmNNMaZM"
      },
      "source": [
        "Datax1=np.zeros((5,61))\n",
        "Datay1=np.zeros((5,61))\n",
        "j=0\n",
        "for x in decoded_data:\n",
        "    Datay1temp,Datax1temp=[],[]\n",
        "\n",
        "    for i in range(0,121,2):\n",
        "        Datax1temp.append(x[i])\n",
        "        Datay1temp.append(x[i+1])\n",
        "    Datax1[j]=Datax1temp\n",
        "    Datay1[j]=Datay1temp\n",
        "    j += 1"
      ],
      "execution_count": 833,
      "outputs": []
    },
    {
      "cell_type": "code",
      "metadata": {
        "colab": {
          "base_uri": "https://localhost:8080/"
        },
        "id": "1YVtPa7RNXMu",
        "outputId": "7115971f-2b82-4d75-9aa7-7e01bb872c26"
      },
      "source": [
        "np.array(Datax1).shape"
      ],
      "execution_count": 834,
      "outputs": [
        {
          "output_type": "execute_result",
          "data": {
            "text/plain": [
              "(5, 61)"
            ]
          },
          "metadata": {},
          "execution_count": 834
        }
      ]
    },
    {
      "cell_type": "code",
      "metadata": {
        "colab": {
          "base_uri": "https://localhost:8080/"
        },
        "id": "6j_DzmOsNZqY",
        "outputId": "1567c4d9-245f-47f9-977a-d85a5161beaa"
      },
      "source": [
        "np.array(Datay1).shape"
      ],
      "execution_count": 835,
      "outputs": [
        {
          "output_type": "execute_result",
          "data": {
            "text/plain": [
              "(5, 61)"
            ]
          },
          "metadata": {},
          "execution_count": 835
        }
      ]
    },
    {
      "cell_type": "code",
      "metadata": {
        "colab": {
          "base_uri": "https://localhost:8080/"
        },
        "id": "jeyOVx58NvIz",
        "outputId": "669da005-e9ed-453f-e1c0-6297ae08fbc9"
      },
      "source": [
        "np.array(Datax1)"
      ],
      "execution_count": 836,
      "outputs": [
        {
          "output_type": "execute_result",
          "data": {
            "text/plain": [
              "array([[ 6.59139276e-01,  6.59537911e-01,  6.55886769e-01,\n",
              "         6.14116192e-01,  6.23056054e-01,  5.69256544e-01,\n",
              "         5.26903868e-01,  4.88970608e-01,  4.47623223e-01,\n",
              "         3.92677665e-01,  3.08195800e-01,  2.77076095e-01,\n",
              "         1.95620939e-01,  1.26454040e-01,  6.31165951e-02,\n",
              "         1.32580288e-03, -9.03947279e-02, -1.56796351e-01,\n",
              "        -2.06118703e-01, -2.70403743e-01, -3.42509955e-01,\n",
              "        -3.87164474e-01, -4.49005544e-01, -5.27133405e-01,\n",
              "        -5.51619053e-01, -5.89464426e-01, -6.37639582e-01,\n",
              "        -6.54730976e-01, -6.61828697e-01, -6.80833817e-01,\n",
              "        -6.85460508e-01, -6.73871279e-01, -6.43967092e-01,\n",
              "        -6.50272548e-01, -6.25935912e-01, -5.95591843e-01,\n",
              "        -5.66231668e-01, -5.18727779e-01, -4.46559757e-01,\n",
              "        -4.02253598e-01, -3.42161566e-01, -2.92699039e-01,\n",
              "        -2.18768120e-01, -1.52875304e-01, -7.05970824e-02,\n",
              "        -2.08769217e-02,  5.28063141e-02,  1.38461053e-01,\n",
              "         2.06645250e-01,  2.65726209e-01,  3.50950867e-01,\n",
              "         3.91733557e-01,  4.47523862e-01,  4.95741248e-01,\n",
              "         5.46882629e-01,  5.94870389e-01,  6.16695046e-01,\n",
              "         6.37123585e-01,  6.54376626e-01,  6.50454938e-01,\n",
              "         6.71871066e-01],\n",
              "       [ 1.39272833e+00,  1.38463068e+00,  1.36174691e+00,\n",
              "         1.30908096e+00,  1.26590729e+00,  1.20111275e+00,\n",
              "         1.12273097e+00,  1.03400695e+00,  9.26493764e-01,\n",
              "         8.11177552e-01,  6.86385453e-01,  5.60642540e-01,\n",
              "         4.20348287e-01,  2.75495023e-01,  1.37028500e-01,\n",
              "        -1.12046693e-02, -1.58142328e-01, -2.90826052e-01,\n",
              "        -4.43617284e-01, -5.83432078e-01, -7.11075544e-01,\n",
              "        -8.35689723e-01, -9.48603809e-01, -1.05852604e+00,\n",
              "        -1.14770937e+00, -1.23448789e+00, -1.30076826e+00,\n",
              "        -1.35084522e+00, -1.38236642e+00, -1.40465629e+00,\n",
              "        -1.40262949e+00, -1.40068603e+00, -1.38300943e+00,\n",
              "        -1.35211802e+00, -1.29206824e+00, -1.22313905e+00,\n",
              "        -1.14355552e+00, -1.05829418e+00, -9.50328648e-01,\n",
              "        -8.40807855e-01, -7.07383752e-01, -5.88264287e-01,\n",
              "        -4.42256153e-01, -3.15729439e-01, -1.55578375e-01,\n",
              "        -1.70313530e-02,  1.39838919e-01,  2.77148783e-01,\n",
              "         4.18642491e-01,  5.58550060e-01,  7.00993538e-01,\n",
              "         8.13409328e-01,  9.31621075e-01,  1.03350782e+00,\n",
              "         1.11981714e+00,  1.20696092e+00,  1.27441788e+00,\n",
              "         1.31883955e+00,  1.36543059e+00,  1.37838733e+00,\n",
              "         1.39553463e+00],\n",
              "       [ 1.70712245e+00,  1.69538450e+00,  1.66425836e+00,\n",
              "         1.60692346e+00,  1.54141521e+00,  1.47190833e+00,\n",
              "         1.37808287e+00,  1.26759338e+00,  1.13172436e+00,\n",
              "         9.90534008e-01,  8.48465860e-01,  6.82170749e-01,\n",
              "         5.16660631e-01,  3.39369684e-01,  1.68706134e-01,\n",
              "        -1.65745188e-02, -1.87176973e-01, -3.48267943e-01,\n",
              "        -5.45402229e-01, -7.17586756e-01, -8.69032502e-01,\n",
              "        -1.02791500e+00, -1.16271746e+00, -1.28626633e+00,\n",
              "        -1.40317667e+00, -1.51092637e+00, -1.58496559e+00,\n",
              "        -1.64917958e+00, -1.69116735e+00, -1.71486533e+00,\n",
              "        -1.70998728e+00, -1.71217859e+00, -1.69974208e+00,\n",
              "        -1.65290797e+00, -1.57755351e+00, -1.49208665e+00,\n",
              "        -1.39098024e+00, -1.28953707e+00, -1.16622770e+00,\n",
              "        -1.02876031e+00, -8.63906860e-01, -7.14934886e-01,\n",
              "        -5.38037181e-01, -3.85523587e-01, -1.91999242e-01,\n",
              "        -1.53828748e-02,  1.77138031e-01,  3.36586297e-01,\n",
              "         5.09496987e-01,  6.84044898e-01,  8.51011336e-01,\n",
              "         9.94128346e-01,  1.13909233e+00,  1.26397848e+00,\n",
              "         1.36536145e+00,  1.46928585e+00,  1.55629945e+00,\n",
              "         1.61100161e+00,  1.67016709e+00,  1.69035733e+00,\n",
              "         1.70567536e+00],\n",
              "       [ 1.57612574e+00,  1.56590354e+00,  1.53821146e+00,\n",
              "         1.48282242e+00,  1.42661870e+00,  1.35907733e+00,\n",
              "         1.27168679e+00,  1.17026591e+00,  1.04621172e+00,\n",
              "         9.15802300e-01,  7.80932605e-01,  6.31534696e-01,\n",
              "         4.76530999e-01,  3.12755853e-01,  1.55507356e-01,\n",
              "        -1.43367816e-02, -1.75078735e-01, -3.24333966e-01,\n",
              "        -5.02992094e-01, -6.61689043e-01, -8.03217292e-01,\n",
              "        -9.47821438e-01, -1.07350373e+00, -1.19137526e+00,\n",
              "        -1.29673147e+00, -1.39574361e+00, -1.46654963e+00,\n",
              "        -1.52487338e+00, -1.56250000e+00, -1.58561194e+00,\n",
              "        -1.58192182e+00, -1.58239031e+00, -1.56776977e+00,\n",
              "        -1.52757823e+00, -1.45860136e+00, -1.38002563e+00,\n",
              "        -1.28788555e+00, -1.19318652e+00, -1.07627022e+00,\n",
              "        -9.50446367e-01, -7.98688889e-01, -6.62155509e-01,\n",
              "        -4.98128414e-01, -3.56443703e-01, -1.76824078e-01,\n",
              "        -1.60695892e-02,  1.61596805e-01,  3.11821103e-01,\n",
              "         4.71641630e-01,  6.31756127e-01,  7.88504183e-01,\n",
              "         9.18828309e-01,  1.05264640e+00,  1.16794968e+00,\n",
              "         1.26305175e+00,  1.35998392e+00,  1.43884921e+00,\n",
              "         1.48926866e+00,  1.54319382e+00,  1.56037045e+00,\n",
              "         1.57645023e+00],\n",
              "       [ 1.58922529e+00,  1.57885242e+00,  1.55081618e+00,\n",
              "         1.49523282e+00,  1.43809891e+00,  1.37036026e+00,\n",
              "         1.28232634e+00,  1.17999864e+00,  1.05476379e+00,\n",
              "         9.23275650e-01,  7.87685692e-01,  6.36597395e-01,\n",
              "         4.80543882e-01,  3.15417379e-01,  1.56827733e-01,\n",
              "        -1.45599991e-02, -1.76289022e-01, -3.26727420e-01,\n",
              "        -5.07233202e-01, -6.67278886e-01, -8.09798241e-01,\n",
              "        -9.55830157e-01, -1.08242440e+00, -1.20086443e+00,\n",
              "        -1.30737603e+00, -1.40726137e+00, -1.47839165e+00,\n",
              "        -1.53730404e+00, -1.57536817e+00, -1.59853709e+00,\n",
              "        -1.59472811e+00, -1.59536946e+00, -1.58096790e+00,\n",
              "        -1.54011178e+00, -1.47049701e+00, -1.39123154e+00,\n",
              "        -1.29819560e+00, -1.20282173e+00, -1.08526587e+00,\n",
              "        -9.58277881e-01, -8.05211008e-01, -6.67433321e-01,\n",
              "        -5.02119660e-01, -3.59351754e-01, -1.78341776e-01,\n",
              "        -1.60013121e-02,  1.63151860e-01,  3.14297557e-01,\n",
              "         4.75427330e-01,  6.36984885e-01,  7.94754863e-01,\n",
              "         9.26359296e-01,  1.06129038e+00,  1.17755270e+00,\n",
              "         1.27328265e+00,  1.37091410e+00,  1.45059443e+00,\n",
              "         1.50144243e+00,  1.55589139e+00,  1.57336903e+00,\n",
              "         1.58937299e+00]])"
            ]
          },
          "metadata": {},
          "execution_count": 836
        }
      ]
    },
    {
      "cell_type": "code",
      "metadata": {
        "colab": {
          "base_uri": "https://localhost:8080/"
        },
        "id": "O7w9HI2KpB1r",
        "outputId": "8ee00535-37f6-4ffe-d1ec-f87096631f95"
      },
      "source": [
        "MSE = np.square(np.subtract(x_test,decoded_data)).mean()\n",
        "print(MSE)"
      ],
      "execution_count": 837,
      "outputs": [
        {
          "output_type": "stream",
          "name": "stdout",
          "text": [
            "4235.266749608356\n"
          ]
        }
      ]
    },
    {
      "cell_type": "code",
      "metadata": {
        "id": "7c3Ihero4nFf",
        "colab": {
          "base_uri": "https://localhost:8080/",
          "height": 301
        },
        "outputId": "9a01ef96-f11e-4231-d9fd-5b465c52a637"
      },
      "source": [
        "# Use Matplotlib\n",
        "import matplotlib.pyplot as plt\n",
        "\n",
        "n = 5 # How many digits we will display\n",
        "plt.figure(figsize=(20, 5))\n",
        "for i in range(n):\n",
        "    # Display original\n",
        "    ax = plt.subplot(2, n, i + 1)\n",
        "    plt.scatter(Datax[i],Datay[i])\n",
        "    \n",
        "    ax.get_xaxis().set_visible(False)\n",
        "    ax.get_yaxis().set_visible(False)\n",
        "\n",
        "    \n",
        "   # Display reconstruction\n",
        "    ax = plt.subplot(2, n, i + 1 + n)\n",
        "    plt.scatter(Datax1[i],Datay1[i])\n",
        "    \n",
        "    ax.get_xaxis().set_visible(False)\n",
        "    ax.get_yaxis().set_visible(False)\n",
        "    \n",
        "plt.show()"
      ],
      "execution_count": 838,
      "outputs": [
        {
          "output_type": "display_data",
          "data": {
            "image/png": "[encoded data removed]",
            "text/plain": [
              "<Figure size 1440x360 with 10 Axes>"
            ]
          },
          "metadata": {
            "needs_background": "light"
          }
        }
      ]
    }
  ]
}