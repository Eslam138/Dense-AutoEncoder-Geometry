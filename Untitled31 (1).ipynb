{
  "nbformat": 4,
  "nbformat_minor": 0,
  "metadata": {
    "colab": {
      "name": "Untitled31.ipynb",
      "provenance": [],
      "collapsed_sections": []
    },
    "kernelspec": {
      "name": "python3",
      "display_name": "Python 3"
    },
    "language_info": {
      "name": "python"
    }
  },
  "cells": [
    {
      "cell_type": "code",
      "metadata": {
        "colab": {
          "base_uri": "https://localhost:8080/"
        },
        "id": "3r2XY3AD3SKd",
        "outputId": "94d27994-88d3-417a-c3f8-cb201fea0b35"
      },
      "source": [
        "import pandas as pd\n",
        "import numpy as np\n",
        "\n",
        "# Drawing the embeddings\n",
        "import matplotlib.pyplot as plt\n",
        "!pip install keras==2.2.4\n",
        "!pip install tensorflow==1.13.\n",
        "%tensorflow_version 1.x\n",
        "# Deep learning: \n",
        "from keras.models import Input, Model\n",
        "from keras.layers import Dense\n",
        "\n"
      ],
      "execution_count": null,
      "outputs": [
        {
          "output_type": "stream",
          "name": "stdout",
          "text": [
            "Requirement already satisfied: keras==2.2.4 in /usr/local/lib/python3.7/dist-packages (2.2.4)\n",
            "Requirement already satisfied: h5py in /usr/local/lib/python3.7/dist-packages (from keras==2.2.4) (3.1.0)\n",
            "Requirement already satisfied: keras-applications>=1.0.6 in /tensorflow-1.15.2/python3.7 (from keras==2.2.4) (1.0.8)\n",
            "Requirement already satisfied: numpy>=1.9.1 in /usr/local/lib/python3.7/dist-packages (from keras==2.2.4) (1.19.5)\n",
            "Requirement already satisfied: scipy>=0.14 in /usr/local/lib/python3.7/dist-packages (from keras==2.2.4) (1.4.1)\n",
            "Requirement already satisfied: pyyaml in /usr/local/lib/python3.7/dist-packages (from keras==2.2.4) (3.13)\n",
            "Requirement already satisfied: keras-preprocessing>=1.0.5 in /usr/local/lib/python3.7/dist-packages (from keras==2.2.4) (1.1.2)\n",
            "Requirement already satisfied: six>=1.9.0 in /usr/local/lib/python3.7/dist-packages (from keras==2.2.4) (1.15.0)\n",
            "Requirement already satisfied: cached-property in /usr/local/lib/python3.7/dist-packages (from h5py->keras==2.2.4) (1.5.2)\n",
            "\u001b[31mERROR: Could not find a version that satisfies the requirement tensorflow==1.13. (from versions: 1.13.1, 1.13.2, 1.14.0, 1.15.0, 1.15.2, 1.15.3, 1.15.4, 1.15.5, 2.0.0, 2.0.1, 2.0.2, 2.0.3, 2.0.4, 2.1.0, 2.1.1, 2.1.2, 2.1.3, 2.1.4, 2.2.0rc0, 2.2.0rc1, 2.2.0rc2, 2.2.0rc3, 2.2.0rc4, 2.2.0, 2.2.1, 2.2.2, 2.2.3, 2.3.0rc0, 2.3.0rc1, 2.3.0rc2, 2.3.0, 2.3.1, 2.3.2, 2.3.3, 2.3.4, 2.4.0rc0, 2.4.0rc1, 2.4.0rc2, 2.4.0rc3, 2.4.0rc4, 2.4.0, 2.4.1, 2.4.2, 2.4.3, 2.4.4, 2.5.0rc0, 2.5.0rc1, 2.5.0rc2, 2.5.0rc3, 2.5.0, 2.5.1, 2.5.2, 2.6.0rc0, 2.6.0rc1, 2.6.0rc2, 2.6.0, 2.6.1, 2.6.2, 2.7.0rc0, 2.7.0rc1, 2.7.0)\u001b[0m\n",
            "\u001b[31mERROR: No matching distribution found for tensorflow==1.13.\u001b[0m\n"
          ]
        }
      ]
    },
    {
      "cell_type": "code",
      "metadata": {
        "id": "oicBnpEOLpL-"
      },
      "source": [
        "data = pd.read_csv('/content/Geom.csv')"
      ],
      "execution_count": null,
      "outputs": []
    },
    {
      "cell_type": "code",
      "metadata": {
        "id": "1PYNYByn3fn8",
        "colab": {
          "base_uri": "https://localhost:8080/"
        },
        "outputId": "70274074-dd70-4051-b4d7-de7a2898cf20"
      },
      "source": [
        "print(data)"
      ],
      "execution_count": null,
      "outputs": [
        {
          "output_type": "stream",
          "name": "stdout",
          "text": [
            "          .1  Unnamed: 2  ...  Unnamed: 119  Unnamed: 120  Unnamed: 121\n",
            "0    82    0    81.55081  ...     -8.571701            82     -0.000381\n",
            "1    82    0    81.55078  ...     -8.571686            82     -0.000366\n",
            "2   129    0   128.29330  ...    -13.484740           129     -0.000595\n",
            "3   108    0   107.40840  ...    -11.289550           108     -0.000504\n",
            "4   145    0   144.20570  ...    -15.157260           145     -0.000671\n",
            "5    89    0    88.51245  ...     -9.303406            89     -0.000427\n",
            "6    83    0    82.54532  ...     -8.676208            83     -0.000366\n",
            "7   133    0   132.27140  ...    -13.902860           133     -0.000610\n",
            "8   116    0   115.36450  ...    -12.125820           116     -0.000534\n",
            "9    79    0    78.56723  ...     -8.258099            79     -0.000366\n",
            "10  131    0   130.28230  ...    -13.693790           131     -0.000610\n",
            "11   89    0    88.51245  ...     -9.303436            89     -0.000397\n",
            "12   85    0    84.53442  ...     -8.885300            85     -0.000397\n",
            "13  104    0   103.43030  ...    -10.871420           104     -0.000481\n",
            "14  136    0   135.25500  ...    -14.216460           136     -0.000610\n",
            "15   77    0    76.57819  ...     -8.049011            77     -0.000366\n",
            "16   96    0    95.47412  ...    -10.035160            96     -0.000427\n",
            "17   50    0    49.72607  ...     -5.226624            50     -0.000244\n",
            "18  106    0   105.41930  ...    -11.080470           106     -0.000488\n",
            "19  130    0   129.28780  ...    -13.589280           130     -0.000595\n",
            "20  120    0   119.34270  ...    -12.543950           120     -0.000549\n",
            "21  121    0   120.33720  ...    -12.648500           121     -0.000549\n",
            "\n",
            "[22 rows x 122 columns]\n"
          ]
        }
      ]
    },
    {
      "cell_type": "code",
      "metadata": {
        "id": "IfsZhHJv3h9d",
        "colab": {
          "base_uri": "https://localhost:8080/"
        },
        "outputId": "44c04654-359c-42e7-8e73-af2e0e904fc0"
      },
      "source": [
        "data.shape"
      ],
      "execution_count": null,
      "outputs": [
        {
          "output_type": "execute_result",
          "data": {
            "text/plain": [
              "(22, 122)"
            ]
          },
          "metadata": {},
          "execution_count": 112
        }
      ]
    },
    {
      "cell_type": "code",
      "metadata": {
        "id": "nxTuvrCZ3mtt"
      },
      "source": [
        "import keras\n",
        "from keras import layers\n",
        "\n",
        "# This is the size of our encoded representations\n",
        "encoding_size = 30  \n",
        "# This is our input \n",
        "input= keras.Input(shape=(122,))\n",
        "# \"encoded\" is the encoded representation of the input\n",
        "encoded = layers.Dense(encoding_size, activation='relu')(input)\n",
        "# \"decoded\" is the lossy reconstruction of the input\n",
        "decoded = layers.Dense(122, activation='sigmoid')(encoded)\n",
        "\n",
        "# This model maps an input to its reconstruction\n",
        "autoencoder = keras.Model(input, decoded)"
      ],
      "execution_count": null,
      "outputs": []
    },
    {
      "cell_type": "code",
      "metadata": {
        "id": "U4hKHdTS350M"
      },
      "source": [
        "# This model maps an input to its encoded representation\n",
        "encoder = keras.Model(input, encoded)"
      ],
      "execution_count": null,
      "outputs": []
    },
    {
      "cell_type": "code",
      "metadata": {
        "id": "nIBqTMqa3_jM"
      },
      "source": [
        "# This is our encoded  input\n",
        "encoded_input = keras.Input(shape=(encoding_size,))\n",
        "# Retrieve the last layer of the autoencoder model\n",
        "decoder_layer = autoencoder.layers[-1]\n",
        "# Create the decoder model\n",
        "decoder = keras.Model(encoded_input, decoder_layer(encoded_input))"
      ],
      "execution_count": null,
      "outputs": []
    },
    {
      "cell_type": "code",
      "metadata": {
        "id": "OVhdBmB_4IxY"
      },
      "source": [
        "autoencoder.compile(optimizer='adam', loss='binary_crossentropy')\n"
      ],
      "execution_count": null,
      "outputs": []
    },
    {
      "cell_type": "code",
      "metadata": {
        "id": "GCBJuiCu4O44"
      },
      "source": [
        "# train test split\n",
        "from sklearn.model_selection import train_test_split\n",
        "x_train, x_test, = train_test_split(data, test_size=0.22, random_state=42)"
      ],
      "execution_count": null,
      "outputs": []
    },
    {
      "cell_type": "code",
      "metadata": {
        "id": "VDx8fK1l4QP6",
        "colab": {
          "base_uri": "https://localhost:8080/"
        },
        "outputId": "de0390d6-7d67-410e-db72-c6def34c4f1b"
      },
      "source": [
        "import numpy as np\n",
        "import pandas as pd\n",
        "array1 = np.array(x_train)\n",
        "array2 = np.array(x_test)\n",
        "\n",
        "x_train = x_train.astype('float32') / 255.\n",
        "x_test = x_test.astype('float32') / 255.\n",
        "x_train = array1.reshape((len(x_train), np.prod(x_train.shape[1:])))\n",
        "x_test = array2.reshape((len(x_test), np.prod(x_test.shape[1:])))\n",
        "print(x_train.shape)\n",
        "print(x_test.shape)"
      ],
      "execution_count": null,
      "outputs": [
        {
          "output_type": "stream",
          "name": "stdout",
          "text": [
            "(17, 122)\n",
            "(5, 122)\n"
          ]
        }
      ]
    },
    {
      "cell_type": "code",
      "metadata": {
        "id": "bQQYiz_g4UoD",
        "colab": {
          "base_uri": "https://localhost:8080/"
        },
        "outputId": "f28bf64e-a9bb-4346-83d8-9b311f9d7647"
      },
      "source": [
        "autoencoder.fit(x_train, x_train,\n",
        "                epochs=100,\n",
        "                batch_size=256,\n",
        "                shuffle=True,\n",
        "                validation_data=(x_test, x_test))"
      ],
      "execution_count": null,
      "outputs": [
        {
          "output_type": "stream",
          "name": "stdout",
          "text": [
            "Train on 17 samples, validate on 5 samples\n",
            "Epoch 1/100\n",
            "17/17 [==============================] - 0s 9ms/step - loss: 176.1386 - val_loss: 46.6611\n",
            "Epoch 2/100\n",
            "17/17 [==============================] - 0s 491us/step - loss: 62.4815 - val_loss: -47.4331\n",
            "Epoch 3/100\n",
            "17/17 [==============================] - 0s 176us/step - loss: -69.2954 - val_loss: -148.2746\n",
            "Epoch 4/100\n",
            "17/17 [==============================] - 0s 257us/step - loss: -210.5512 - val_loss: -255.1406\n",
            "Epoch 5/100\n",
            "17/17 [==============================] - 0s 227us/step - loss: -360.2925 - val_loss: -367.9820\n",
            "Epoch 6/100\n",
            "17/17 [==============================] - 0s 271us/step - loss: -518.4359 - val_loss: -486.0272\n",
            "Epoch 7/100\n",
            "17/17 [==============================] - 0s 283us/step - loss: -683.8757 - val_loss: -611.0574\n",
            "Epoch 8/100\n",
            "17/17 [==============================] - 0s 276us/step - loss: -859.1193 - val_loss: -743.2223\n",
            "Epoch 9/100\n",
            "17/17 [==============================] - 0s 266us/step - loss: -1044.3724 - val_loss: -882.7551\n",
            "Epoch 10/100\n",
            "17/17 [==============================] - 0s 271us/step - loss: -1239.9586 - val_loss: -1029.8989\n",
            "Epoch 11/100\n",
            "17/17 [==============================] - 0s 434us/step - loss: -1446.2189 - val_loss: -1184.9152\n",
            "Epoch 12/100\n",
            "17/17 [==============================] - 0s 290us/step - loss: -1663.5192 - val_loss: -1348.1443\n",
            "Epoch 13/100\n",
            "17/17 [==============================] - 0s 279us/step - loss: -1892.3330 - val_loss: -1519.8917\n",
            "Epoch 14/100\n",
            "17/17 [==============================] - 0s 348us/step - loss: -2133.0918 - val_loss: -1700.5137\n",
            "Epoch 15/100\n",
            "17/17 [==============================] - 0s 233us/step - loss: -2386.2937 - val_loss: -1890.4021\n",
            "Epoch 16/100\n",
            "17/17 [==============================] - 0s 304us/step - loss: -2652.4875 - val_loss: -2089.9631\n",
            "Epoch 17/100\n",
            "17/17 [==============================] - 0s 298us/step - loss: -2932.2395 - val_loss: -2299.6082\n",
            "Epoch 18/100\n",
            "17/17 [==============================] - 0s 258us/step - loss: -3226.1226 - val_loss: -2519.8911\n",
            "Epoch 19/100\n",
            "17/17 [==============================] - 0s 223us/step - loss: -3534.9087 - val_loss: -2751.3677\n",
            "Epoch 20/100\n",
            "17/17 [==============================] - 0s 193us/step - loss: -3859.3796 - val_loss: -2994.1597\n",
            "Epoch 21/100\n",
            "17/17 [==============================] - 0s 252us/step - loss: -4199.7124 - val_loss: -3248.5771\n",
            "Epoch 22/100\n",
            "17/17 [==============================] - 0s 295us/step - loss: -4556.3442 - val_loss: -3514.9331\n",
            "Epoch 23/100\n",
            "17/17 [==============================] - 0s 239us/step - loss: -4929.7153 - val_loss: -3793.5898\n",
            "Epoch 24/100\n",
            "17/17 [==============================] - 0s 411us/step - loss: -5320.3262 - val_loss: -4084.8828\n",
            "Epoch 25/100\n",
            "17/17 [==============================] - 0s 334us/step - loss: -5728.6450 - val_loss: -4389.1328\n",
            "Epoch 26/100\n",
            "17/17 [==============================] - 0s 333us/step - loss: -6155.1206 - val_loss: -4706.6523\n",
            "Epoch 27/100\n",
            "17/17 [==============================] - 0s 577us/step - loss: -6600.1909 - val_loss: -5037.7539\n",
            "Epoch 28/100\n",
            "17/17 [==============================] - 0s 429us/step - loss: -7064.2974 - val_loss: -5382.7271\n",
            "Epoch 29/100\n",
            "17/17 [==============================] - 0s 339us/step - loss: -7547.8457 - val_loss: -5741.8857\n",
            "Epoch 30/100\n",
            "17/17 [==============================] - 0s 334us/step - loss: -8051.2749 - val_loss: -6115.5283\n",
            "Epoch 31/100\n",
            "17/17 [==============================] - 0s 444us/step - loss: -8575.0039 - val_loss: -6503.9087\n",
            "Epoch 32/100\n",
            "17/17 [==============================] - 0s 386us/step - loss: -9119.3945 - val_loss: -6907.3330\n",
            "Epoch 33/100\n",
            "17/17 [==============================] - 0s 368us/step - loss: -9684.8721 - val_loss: -7326.0728\n",
            "Epoch 34/100\n",
            "17/17 [==============================] - 0s 327us/step - loss: -10271.8184 - val_loss: -7760.3975\n",
            "Epoch 35/100\n",
            "17/17 [==============================] - 0s 385us/step - loss: -10880.6074 - val_loss: -8210.5479\n",
            "Epoch 36/100\n",
            "17/17 [==============================] - 0s 267us/step - loss: -11511.5859 - val_loss: -8676.7314\n",
            "Epoch 37/100\n",
            "17/17 [==============================] - 0s 311us/step - loss: -12165.0459 - val_loss: -9159.2529\n",
            "Epoch 38/100\n",
            "17/17 [==============================] - 0s 259us/step - loss: -12841.4082 - val_loss: -9658.3486\n",
            "Epoch 39/100\n",
            "17/17 [==============================] - 0s 335us/step - loss: -13541.0020 - val_loss: -10174.2461\n",
            "Epoch 40/100\n",
            "17/17 [==============================] - 0s 258us/step - loss: -14264.1484 - val_loss: -10707.1523\n",
            "Epoch 41/100\n",
            "17/17 [==============================] - 0s 330us/step - loss: -15011.1406 - val_loss: -11257.3008\n",
            "Epoch 42/100\n",
            "17/17 [==============================] - 0s 382us/step - loss: -15782.3047 - val_loss: -11824.9316\n",
            "Epoch 43/100\n",
            "17/17 [==============================] - 0s 221us/step - loss: -16577.9668 - val_loss: -12410.2285\n",
            "Epoch 44/100\n",
            "17/17 [==============================] - 0s 275us/step - loss: -17398.4062 - val_loss: -13013.3926\n",
            "Epoch 45/100\n",
            "17/17 [==============================] - 0s 445us/step - loss: -18243.8867 - val_loss: -13634.6719\n",
            "Epoch 46/100\n",
            "17/17 [==============================] - 0s 257us/step - loss: -19114.7656 - val_loss: -14274.2861\n",
            "Epoch 47/100\n",
            "17/17 [==============================] - 0s 251us/step - loss: -20011.3359 - val_loss: -14932.4453\n",
            "Epoch 48/100\n",
            "17/17 [==============================] - 0s 273us/step - loss: -20933.8984 - val_loss: -15609.3457\n",
            "Epoch 49/100\n",
            "17/17 [==============================] - 0s 423us/step - loss: -21882.7363 - val_loss: -16305.1777\n",
            "Epoch 50/100\n",
            "17/17 [==============================] - 0s 316us/step - loss: -22858.1152 - val_loss: -17020.1875\n",
            "Epoch 51/100\n",
            "17/17 [==============================] - 0s 268us/step - loss: -23860.3789 - val_loss: -17754.5938\n",
            "Epoch 52/100\n",
            "17/17 [==============================] - 0s 446us/step - loss: -24889.8203 - val_loss: -18508.6094\n",
            "Epoch 53/100\n",
            "17/17 [==============================] - 0s 489us/step - loss: -25946.7461 - val_loss: -19282.3789\n",
            "Epoch 54/100\n",
            "17/17 [==============================] - 0s 558us/step - loss: -27031.3828 - val_loss: -20076.1445\n",
            "Epoch 55/100\n",
            "17/17 [==============================] - 0s 305us/step - loss: -28144.0508 - val_loss: -20890.1602\n",
            "Epoch 56/100\n",
            "17/17 [==============================] - 0s 519us/step - loss: -29285.0996 - val_loss: -21724.6172\n",
            "Epoch 57/100\n",
            "17/17 [==============================] - 0s 297us/step - loss: -30454.8145 - val_loss: -22579.7109\n",
            "Epoch 58/100\n",
            "17/17 [==============================] - 0s 425us/step - loss: -31653.4551 - val_loss: -23455.6836\n",
            "Epoch 59/100\n",
            "17/17 [==============================] - 0s 394us/step - loss: -32881.3594 - val_loss: -24352.7422\n",
            "Epoch 60/100\n",
            "17/17 [==============================] - 0s 703us/step - loss: -34138.8320 - val_loss: -25271.0273\n",
            "Epoch 61/100\n",
            "17/17 [==============================] - 0s 521us/step - loss: -35426.0625 - val_loss: -26210.7461\n",
            "Epoch 62/100\n",
            "17/17 [==============================] - 0s 321us/step - loss: -36743.3555 - val_loss: -27172.1406\n",
            "Epoch 63/100\n",
            "17/17 [==============================] - 0s 525us/step - loss: -38091.0312 - val_loss: -28155.3945\n",
            "Epoch 64/100\n",
            "17/17 [==============================] - 0s 308us/step - loss: -39469.3438 - val_loss: -29160.6836\n",
            "Epoch 65/100\n",
            "17/17 [==============================] - 0s 489us/step - loss: -40878.5430 - val_loss: -30188.1777\n",
            "Epoch 66/100\n",
            "17/17 [==============================] - 0s 302us/step - loss: -42318.8828 - val_loss: -31238.0000\n",
            "Epoch 67/100\n",
            "17/17 [==============================] - 0s 468us/step - loss: -43790.5156 - val_loss: -32310.2715\n",
            "Epoch 68/100\n",
            "17/17 [==============================] - 0s 299us/step - loss: -45293.6367 - val_loss: -33405.1641\n",
            "Epoch 69/100\n",
            "17/17 [==============================] - 0s 505us/step - loss: -46828.4766 - val_loss: -34522.7852\n",
            "Epoch 70/100\n",
            "17/17 [==============================] - 0s 329us/step - loss: -48395.1992 - val_loss: -35663.3047\n",
            "Epoch 71/100\n",
            "17/17 [==============================] - 0s 486us/step - loss: -49994.0234 - val_loss: -36826.8672\n",
            "Epoch 72/100\n",
            "17/17 [==============================] - 0s 509us/step - loss: -51625.1484 - val_loss: -38005.7266\n",
            "Epoch 73/100\n",
            "17/17 [==============================] - 0s 345us/step - loss: -53277.7148 - val_loss: -39215.5820\n",
            "Epoch 74/100\n",
            "17/17 [==============================] - 0s 402us/step - loss: -54973.7344 - val_loss: -40440.8438\n",
            "Epoch 75/100\n",
            "17/17 [==============================] - 0s 428us/step - loss: -56691.3477 - val_loss: -41697.3828\n",
            "Epoch 76/100\n",
            "17/17 [==============================] - 0s 352us/step - loss: -58452.8164 - val_loss: -42977.4688\n",
            "Epoch 77/100\n",
            "17/17 [==============================] - 0s 288us/step - loss: -60247.2852 - val_loss: -44281.1797\n",
            "Epoch 78/100\n",
            "17/17 [==============================] - 0s 252us/step - loss: -62074.8750 - val_loss: -45608.5859\n",
            "Epoch 79/100\n",
            "17/17 [==============================] - 0s 529us/step - loss: -63935.6914 - val_loss: -46959.7852\n",
            "Epoch 80/100\n",
            "17/17 [==============================] - 0s 276us/step - loss: -65829.8359 - val_loss: -48334.8242\n",
            "Epoch 81/100\n",
            "17/17 [==============================] - 0s 449us/step - loss: -67757.4219 - val_loss: -49733.7773\n",
            "Epoch 82/100\n",
            "17/17 [==============================] - 0s 471us/step - loss: -69718.5234 - val_loss: -51156.6953\n",
            "Epoch 83/100\n",
            "17/17 [==============================] - 0s 551us/step - loss: -71713.2188 - val_loss: -52603.6445\n",
            "Epoch 84/100\n",
            "17/17 [==============================] - 0s 410us/step - loss: -73741.6250 - val_loss: -54074.6797\n",
            "Epoch 85/100\n",
            "17/17 [==============================] - 0s 582us/step - loss: -75803.7656 - val_loss: -55569.8242\n",
            "Epoch 86/100\n",
            "17/17 [==============================] - 0s 648us/step - loss: -77899.7188 - val_loss: -57080.7266\n",
            "Epoch 87/100\n",
            "17/17 [==============================] - 0s 393us/step - loss: -80017.7500 - val_loss: -58624.1250\n",
            "Epoch 88/100\n",
            "17/17 [==============================] - 0s 425us/step - loss: -82181.3438 - val_loss: -60191.7734\n",
            "Epoch 89/100\n",
            "17/17 [==============================] - 0s 403us/step - loss: -84378.9375 - val_loss: -61783.6992\n",
            "Epoch 90/100\n",
            "17/17 [==============================] - 0s 595us/step - loss: -86610.5469 - val_loss: -63399.9258\n",
            "Epoch 91/100\n",
            "17/17 [==============================] - 0s 341us/step - loss: -88876.2422 - val_loss: -65040.5078\n",
            "Epoch 92/100\n",
            "17/17 [==============================] - 0s 491us/step - loss: -91176.0625 - val_loss: -66705.4531\n",
            "Epoch 93/100\n",
            "17/17 [==============================] - 0s 432us/step - loss: -93510.0391 - val_loss: -68394.7891\n",
            "Epoch 94/100\n",
            "17/17 [==============================] - 0s 602us/step - loss: -95878.2188 - val_loss: -70108.5391\n",
            "Epoch 95/100\n",
            "17/17 [==============================] - 0s 280us/step - loss: -98280.6250 - val_loss: -71846.7422\n",
            "Epoch 96/100\n",
            "17/17 [==============================] - 0s 1ms/step - loss: -100717.3047 - val_loss: -73609.4141\n",
            "Epoch 97/100\n",
            "17/17 [==============================] - 0s 579us/step - loss: -103188.2734 - val_loss: -75387.8125\n",
            "Epoch 98/100\n",
            "17/17 [==============================] - 0s 255us/step - loss: -105681.2969 - val_loss: -77190.5625\n",
            "Epoch 99/100\n",
            "17/17 [==============================] - 0s 478us/step - loss: -108208.4531 - val_loss: -79017.6797\n",
            "Epoch 100/100\n",
            "17/17 [==============================] - 0s 359us/step - loss: -110769.7891 - val_loss: -80878.0000\n"
          ]
        },
        {
          "output_type": "execute_result",
          "data": {
            "text/plain": [
              "<keras.callbacks.callbacks.History at 0x7f6a6423e950>"
            ]
          },
          "metadata": {},
          "execution_count": 119
        }
      ]
    },
    {
      "cell_type": "code",
      "metadata": {
        "id": "lggh79BC4aDL",
        "colab": {
          "base_uri": "https://localhost:8080/"
        },
        "outputId": "41394cfa-0a02-4df5-8442-a1d5aa33162a"
      },
      "source": [
        "autoencoder.summary()\n"
      ],
      "execution_count": null,
      "outputs": [
        {
          "output_type": "stream",
          "name": "stdout",
          "text": [
            "Model: \"model_7\"\n",
            "_________________________________________________________________\n",
            "Layer (type)                 Output Shape              Param #   \n",
            "=================================================================\n",
            "input_5 (InputLayer)         (None, 122)               0         \n",
            "_________________________________________________________________\n",
            "dense_5 (Dense)              (None, 30)                3690      \n",
            "_________________________________________________________________\n",
            "dense_6 (Dense)              (None, 122)               3782      \n",
            "=================================================================\n",
            "Total params: 7,472\n",
            "Trainable params: 7,472\n",
            "Non-trainable params: 0\n",
            "_________________________________________________________________\n"
          ]
        }
      ]
    },
    {
      "cell_type": "code",
      "metadata": {
        "id": "iSzPmkiB4dgc"
      },
      "source": [
        "# Encode and decode some digits\n",
        "# Note that we take them from the *test* set\n",
        "encoded_data = encoder.predict(x_test)\n",
        "decoded_data = decoder.predict(encoded_data)"
      ],
      "execution_count": null,
      "outputs": []
    },
    {
      "cell_type": "code",
      "metadata": {
        "id": "NRW0pIaQFlme"
      },
      "source": [
        "\n",
        "Datax = []\n",
        "Datay= []         \n",
        "for i in range(4):\n",
        "  for j in range(121):\n",
        "   Datax.append(x_test[i][j])\n",
        "   Datay.append(x_test[i][j+1]) \n",
        "\n",
        "i=i+1\n",
        "\n"
      ],
      "execution_count": null,
      "outputs": []
    },
    {
      "cell_type": "code",
      "metadata": {
        "colab": {
          "base_uri": "https://localhost:8080/"
        },
        "id": "PFn46ohvCa5C",
        "outputId": "07a159f3-3abc-411a-be34-5d8155840440"
      },
      "source": [
        "print(Datay)"
      ],
      "execution_count": null,
      "outputs": [
        {
          "output_type": "stream",
          "name": "stdout",
          "text": [
            "[0.0, 81.55081, 8.571335000000001, 80.2081, 17.04875, 77.98663, 25.3394, 74.91074, 33.3524, 71.01406999999999, 41.0, 66.33939000000001, 48.19839, 60.93787, 54.86871, 54.86871, 60.93787, 48.19839, 66.33939000000001, 41.0, 71.0141, 33.35242, 74.91074, 25.339389999999998, 77.98663, 17.04877, 80.2081, 8.57132, 81.55081, 0.0, 82.0, -8.57135, 81.55081, -17.04877, 80.2081, -25.339389999999998, 77.98663, -33.35242, 74.91074, -41.0, 71.01406999999999, -48.19839, 66.33939000000001, -54.86871, 60.9379, -60.93787, 54.86871, -66.33939000000001, 48.19843, -71.01406999999999, 41.000029999999995, -74.91071, 33.35245, -77.9866, 25.33945, -80.2081, 17.04883, -81.55078, 8.571411, -82.0, 9.159999999999999e-05, -81.55081, -8.571228, -80.20813000000001, -17.04865, -77.98666, -25.33928, -74.91077, -33.35229, -71.01416, -40.99988, -66.33948000000001, -48.19827, -60.93799, -54.868590000000005, -54.868840000000006, -60.93776, -48.19852, -66.33929, -41.00015, -71.01399, -33.35257, -74.91064, -25.3396, -77.98657, -17.04898, -80.20805, -8.571564, -81.55077, -0.00024414099999999997, -82.0, 8.571106, -81.55083, 17.04852, -80.20815999999999, 25.33914, -77.98671, 33.352140000000006, -74.91084000000001, 40.999759999999995, -71.01422, 48.19815, -66.33957, 54.8685, -60.93808000000001, 60.93768000000001, -54.86894, 66.3392, -48.19865, 71.01392, -41.00029, 74.91058000000001, -33.35272, 77.98654, -25.33972, 80.20804, -17.0491, 81.55075, -8.571701, 82.0, -0.00038147, 0.0, 103.4303, 10.87096, 101.7273, 21.62282, 98.90991, 32.13777, 95.00867, 42.30061, 90.06665, 52.0, 84.13781999999999, 61.12967, 77.28711, 69.58958, 69.5896, 77.28706, 61.12964, 84.13776999999999, 52.0, 90.06665, 42.30066, 95.00873, 32.13782, 98.90988, 21.6228, 101.7274, 10.87097, 103.4303, 0.0, 104.0, -10.87097, 103.4303, -21.6228, 101.7273, -32.13776, 98.90988, -42.3006, 95.00873, -52.0, 90.06664, -61.12964, 84.13776999999999, -69.5896, 77.28708, -77.28705, 69.5896, -84.13776, 61.1297, -90.06659, 52.00005, -95.00873, 42.300670000000004, -98.90985, 32.13785, -101.7274, 21.6229, -103.4302, 10.87106, -104.0, 0.000114441, -103.4303, -10.87083, -101.7274, -21.62268, -98.90991, -32.13762, -95.00879, -42.30046, -90.06671, -51.99985, -84.13788000000001, -61.12951999999999, -77.28716999999999, -69.58943000000001, -69.58972, -77.28692, -61.129819999999995, -84.13763, -52.00018, -90.06652, -42.30084, -95.00863000000001, -32.138000000000005, -98.9098, -21.62311, -101.7273, -10.87122, -103.4303, -0.00024414099999999997, -104.0, 10.870610000000001, -103.4303, 21.62256, -101.7274, 32.13745, -98.90998, 42.300290000000004, -95.00887, 51.999629999999996, -90.06681999999999, 61.12939, -84.13799, 69.58936, -77.28732, 77.28674000000001, -69.58986999999999, 84.13757, -61.12999, 90.06641, -52.00036, 95.00854, -42.301, 98.90979, -32.13818, 101.7273, -21.623260000000002, 103.4302, -10.87142, 104.0, -0.000480652, 0.0, 115.3645, 12.12531, 113.4651, 24.11777, 110.3226, 35.84598, 105.9713, 47.181459999999994, 100.459, 58.0, 93.84598000000001, 68.18307, 86.2048, 77.61914, 77.61914, 86.2048, 68.18307, 93.84598000000001, 58.0, 100.459, 47.181459999999994, 105.9713, 35.84596, 110.3226, 24.11775, 113.4651, 12.12529, 115.3645, 0.0, 116.0, -12.12531, 115.3645, -24.11777, 113.4651, -35.84598, 110.3225, -47.181459999999994, 105.9713, -58.0, 100.459, -68.18307, 93.84598000000001, -77.61914, 86.2048, -86.20477, 77.61917, -93.84595, 68.18314000000001, -100.4589, 58.00006, -105.9712, 47.18152, -110.3225, 35.846070000000005, -113.4651, 24.11786, -115.3645, 12.12543, -116.0, 0.00012207, -115.3646, -12.125169999999999, -113.4651, -24.1176, -110.3226, -35.84581, -105.9713, -47.181290000000004, -100.459, -57.99983, -93.8461, -68.18292, -86.20496, -77.61899, -77.61932, -86.20464, -68.18329, -93.84583, -58.00023, -100.4588, -47.1817, -105.9712, -35.84625, -110.3225, -24.11806, -113.4651, -12.12561, -115.3645, -0.000335693, -116.0, 12.12495, -115.3646, 24.1174, -113.4652, 35.84563, -110.3227, 47.181090000000005, -105.9714, 57.99966, -100.4592, 68.18276999999999, -93.84622, 77.61884, -86.20508000000001, 86.2045, -77.61948000000001, 93.8457, -68.18346, 100.4587, -58.0004, 105.9711, -47.18188, 110.3224, -35.84644, 113.465, -24.11826, 115.3645, -12.12582, 116.0, -0.000534058, 0.0, 81.55078, 8.57132, 80.20813000000001, 17.04877, 77.98663, 25.339389999999998, 74.91071, 33.35242, 71.0141, 41.0, 66.33941999999999, 48.19839, 60.93787, 54.86871, 54.86871, 60.93787, 48.19836, 66.33939000000001, 41.0, 71.0141, 33.35242, 74.91074, 25.33942, 77.98663, 17.04877, 80.2081, 8.57135, 81.55081, 0.0, 82.0, -8.57135, 81.55081, -17.04877, 80.2081, -25.33942, 77.98663, -33.35242, 74.91074, -41.0, 71.01406999999999, -48.19839, 66.33939000000001, -54.86871, 60.9379, -60.93787, 54.86871, -66.33939000000001, 48.19843, -71.01406999999999, 41.000029999999995, -74.91071, 33.35245, -77.9866, 25.33945, -80.2081, 17.04883, -81.55078, 8.571411, -82.0, 9.159999999999999e-05, -81.55081, -8.571228, -80.20813000000001, -17.04865, -77.98666, -25.33929, -74.91077, -33.35229, -71.01416, -40.99988, -66.33948000000001, -48.19827, -60.93799, -54.868590000000005, -54.868840000000006, -60.93776999999999, -48.19852, -66.33929, -41.00018, -71.01398, -33.3526, -74.91064, -25.3396, -77.98657, -17.04895, -80.20806999999999, -8.571533, -81.55078, -0.00024414099999999997, -82.0, 8.571106, -81.55081, 17.04852, -80.20815999999999, 25.339170000000003, -77.98671999999999, 33.35217, -74.91083, 40.999759999999995, -71.01422, 48.19818, -66.33957, 54.868469999999995, -60.93808000000001, 60.93768000000001, -54.868930000000006, 66.33923, -48.198640000000005, 71.01392, -41.00027, 74.91058000000001, -33.35272, 77.98651, -25.33972, 80.20801, -17.0491, 81.55078, -8.571686, 82.0, -0.00036621099999999997]\n"
          ]
        }
      ]
    },
    {
      "cell_type": "code",
      "metadata": {
        "colab": {
          "base_uri": "https://localhost:8080/"
        },
        "id": "Gp8hp_a7ml5V",
        "outputId": "fe8fff12-41f2-4428-e96e-67e5e5adc4d6"
      },
      "source": [
        "\n",
        "\n",
        "decoded_data.shape"
      ],
      "execution_count": null,
      "outputs": [
        {
          "output_type": "execute_result",
          "data": {
            "text/plain": [
              "(5, 122)"
            ]
          },
          "metadata": {},
          "execution_count": 124
        }
      ]
    },
    {
      "cell_type": "code",
      "metadata": {
        "id": "7c3Ihero4nFf",
        "colab": {
          "base_uri": "https://localhost:8080/",
          "height": 301
        },
        "outputId": "9c796d2e-1992-412d-d3d5-11e91ae7461f"
      },
      "source": [
        "# Use Matplotlib\n",
        "import matplotlib.pyplot as plt\n",
        "\n",
        "n = 5 # How many digits we will display\n",
        "plt.figure(figsize=(20, 5))\n",
        "for i in range(n):\n",
        "    # Display original\n",
        "    ax = plt.subplot(2, n, i + 1)\n",
        "    plt.scatter(Datax,Datay)\n",
        "    \n",
        "    ax.get_xaxis().set_visible(False)\n",
        "    ax.get_yaxis().set_visible(False)\n",
        "    \n",
        "   # Display reconstruction\n",
        "    ax = plt.subplot(2, n, i + 1 + n)\n",
        "    plt.scatter(Datax,Datay)\n",
        "    \n",
        "    ax.get_xaxis().set_visible(False)\n",
        "    ax.get_yaxis().set_visible(False)\n",
        "plt.show()"
      ],
      "execution_count": null,
      "outputs": [
        {
          "output_type": "display_data",
          "data": {
            "image/png": "[encoded data removed]",
            "text/plain": [
              "<Figure size 1440x360 with 10 Axes>"
            ]
          },
          "metadata": {
            "needs_background": "light"
          }
        }
      ]
    }
  ]
}